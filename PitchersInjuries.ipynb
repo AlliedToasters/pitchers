{
 "cells": [
  {
   "cell_type": "code",
   "execution_count": 5,
   "metadata": {
    "collapsed": true
   },
   "outputs": [],
   "source": [
    "import numpy as np\n",
    "import pandas as pd\n",
    "import statistics as st\n",
    "import matplotlib.pyplot as plt\n",
    "%matplotlib inline"
   ]
  },
  {
   "cell_type": "code",
   "execution_count": 6,
   "metadata": {
    "collapsed": true
   },
   "outputs": [],
   "source": [
    "def players_outs(df_in):\n",
    "    players = {}\n",
    "    for row in df_in.index:\n",
    "        rowdict = dict(df_in.loc[row])\n",
    "        name = rowdict['playerID']\n",
    "        if name not in players:\n",
    "            df = pd.DataFrame(columns=['Year', 'Outs Pitched'], index=[1])\n",
    "            df['Year'] = rowdict['year']\n",
    "            df['Outs Pitched'] = rowdict['Outs Pitched']\n",
    "            players[name] = df\n",
    "        else:\n",
    "            df = pd.DataFrame(columns=['Year', 'Outs Pitched'], index=[(list(players[name].index)[-1]+1)])\n",
    "            df['Year'] = rowdict['year']\n",
    "            df['Outs Pitched'] = rowdict['Outs Pitched']\n",
    "            players[name] = pd.concat([players[name], df])\n",
    "    return players\n",
    "    \n",
    "def consol(df):\n",
    "    count = {}\n",
    "    for row in df.index:\n",
    "        count[df.loc[row, 'Year']] = 0\n",
    "    for row in df.index:\n",
    "        count[df.loc[row, 'Year']] += df.loc[row, 'Outs Pitched']\n",
    "    result = pd.DataFrame(index=range(df.index[0], len(count)+df.index[0]))\n",
    "    result['Year'] = count.keys()\n",
    "    result['Outs Pitched'] = count.values()\n",
    "    return result\n",
    "\n",
    "def fill_gaps(df):\n",
    "    last_year = df.iloc[0]['Year']\n",
    "    years_to_add = []\n",
    "    for row in df.index:\n",
    "        this_year = int(df.loc(row, 'Year'))\n",
    "        if (this_year - last_year) != 1:\n",
    "            gap = this_year - last_year\n",
    "            print(this_year)\n",
    "            print(last_year)\n",
    "            for i in range(1, gap):\n",
    "                years_to_add.append(last_year + 1)\n",
    "        last_year = this_year\n",
    "    return years_to_add\n",
    "        \n",
    "\n",
    "def tally_outs(df):\n",
    "    if len(df) <= 1:\n",
    "        df.loc[1, 'Outs TD Start'] = 0\n",
    "        df.loc[1, 'Outs TD Finish'] = df.loc[1, 'Outs Pitched']\n",
    "    else:\n",
    "        for i, row in enumerate(df.index):\n",
    "            if i == 0:\n",
    "                df.loc[row, 'Outs TD Start'] = 0\n",
    "            else:\n",
    "                df.loc[row, 'Outs TD Start'] = df.loc[row-1, 'Outs Pitched'] + df.loc[row-1, 'Outs TD Start']\n",
    "                df.loc[row-1, 'Outs TD Finish'] = df.loc[row, 'Outs TD Start']\n",
    "        df.iloc[-1, 3] = df.iloc[-1, 2] + df.iloc[-1, 1]\n",
    "    return df\n",
    "\n",
    "def season_load(df):\n",
    "    if len(df) <= 1:\n",
    "        df.loc[1, 'Mean Outs/Season'] = df.loc[1, 'Outs Pitched']\n",
    "        df.loc[1, 'Season Load TD'] = 1\n",
    "        df.loc[1, 'Season Load (Career)'] = 1\n",
    "    else:\n",
    "        for row in df.index:\n",
    "            if row == 1:\n",
    "                df.loc[1, 'Mean Outs/Season'] = df.loc[1, 'Outs Pitched']\n",
    "            else:\n",
    "                df.loc[row, 'Mean Outs/Season'] = df.loc[row, 'Outs TD Start']/(row-1)\n",
    "            if df.loc[row, 'Mean Outs/Season'] != 0:\n",
    "                df.loc[row, 'Season Load TD'] = df.loc[row, 'Outs Pitched']/df.loc[row, 'Mean Outs/Season']\n",
    "            else:\n",
    "                df.loc[row, 'Season Load TD'] = 1\n",
    "        total_outs = df.iloc[-1]['Outs TD Finish']\n",
    "        avg_outs = total_outs/len(df)\n",
    "        for row in df.index:\n",
    "            if avg_outs != 0:\n",
    "                df.loc[row, 'Season Load (Career)'] = df.loc[row, 'Outs Pitched'] / avg_outs\n",
    "            else:\n",
    "                df.loc[row, 'Season Load (Career)'] = 1\n",
    "    return df\n",
    "\n",
    "def format_names(name_list):\n",
    "    for name in name_list:\n",
    "        index = name_list.index(name)\n",
    "        name = name.lower()\n",
    "        names = name.split()\n",
    "        name1 = names[-1]\n",
    "        if \"'\" in name1:\n",
    "            name1 = name1[0] + name1[2:]\n",
    "        if len(name1) >= 5:\n",
    "            name1 = name1[0:5]\n",
    "        name2 = ''\n",
    "        if names[0][1] == '.':\n",
    "            name2 = names[0][0] + names[0][2]\n",
    "        else:\n",
    "            name2 = names[0][0:2]\n",
    "        newname = name1 + name2 + '01'\n",
    "        name_list[index] = newname\n",
    "    return name_list\n",
    "\n",
    "def reconcile_names(name_list):\n",
    "    names_to_reconcile = list(players)\n",
    "    names_not_found = []\n",
    "    for i, name in enumerate(name_list):\n",
    "        while name not in players:\n",
    "            name_numeral = int(name[-2:])\n",
    "            name_numeral += 1\n",
    "            name_numeral = str(name_numeral)\n",
    "            if len(name_numeral) == 1:\n",
    "                name_numeral = '0' + name_numeral\n",
    "            if len(name_numeral) > 2:\n",
    "                names_not_found.append(name)\n",
    "                name_numeral = '01'\n",
    "                name = name[:-2] + name_numeral\n",
    "                players[name] = pd.DataFrame(index=[1],columns=players['cashnan01'].columns)\n",
    "                players[name].loc[1] = [2016, 0, 0, 0, 0, 1, 1]\n",
    "                print('{} was added to players.'.format(name))\n",
    "            new_name = name[:-2] + name_numeral\n",
    "            name_list[i] = new_name\n",
    "            name = new_name\n",
    "    return name_list\n"
   ]
  },
  {
   "cell_type": "code",
   "execution_count": null,
   "metadata": {
    "collapsed": false
   },
   "outputs": [],
   "source": []
  },
  {
   "cell_type": "code",
   "execution_count": 7,
   "metadata": {
    "collapsed": false
   },
   "outputs": [],
   "source": [
    "pitch = pd.read_csv('Pitching.csv')"
   ]
  },
  {
   "cell_type": "code",
   "execution_count": 8,
   "metadata": {
    "collapsed": true
   },
   "outputs": [],
   "source": [
    "mp = pitch[pitch[\"yearID\"] >= 1989]\n",
    "pitchers = pd.DataFrame(columns=['playerID', 'year', 'Outs Pitched'])\n",
    "pitchers['playerID'], pitchers['year'], pitchers['Outs Pitched'] = mp['playerID'], mp['yearID'], mp['IPouts']"
   ]
  },
  {
   "cell_type": "code",
   "execution_count": 9,
   "metadata": {
    "collapsed": true
   },
   "outputs": [],
   "source": [
    "players = players_outs(pitchers)"
   ]
  },
  {
   "cell_type": "code",
   "execution_count": 10,
   "metadata": {
    "collapsed": false
   },
   "outputs": [],
   "source": [
    "players_to_exclude = []\n",
    "for player in players:\n",
    "    ya = list(players[player]['Year']) #ya short for \"years active\"\n",
    "    if all([2012 not in ya, 2013 not in ya, 2014 not in ya, 2015 not in ya, 2016 not in ya]):\n",
    "        players_to_exclude.append(player)"
   ]
  },
  {
   "cell_type": "code",
   "execution_count": 11,
   "metadata": {
    "collapsed": true
   },
   "outputs": [],
   "source": [
    "for player in players_to_exclude:\n",
    "    del players[player]"
   ]
  },
  {
   "cell_type": "code",
   "execution_count": 12,
   "metadata": {
    "collapsed": false
   },
   "outputs": [],
   "source": [
    "inj2016 = pd.read_csv('2016_disabled_list.csv')\n",
    "inj2016_1 = inj2016[inj2016['Position'] == 'RHP']\n",
    "inj2016_2 = inj2016[inj2016['Position'] == 'LHP']\n",
    "inj2016 = pd.concat([inj2016_1, inj2016_2]).copy()\n",
    "inj2016_names = list(inj2016['Name'])\n",
    "inj2016_names = list(set(inj2016_names))"
   ]
  },
  {
   "cell_type": "code",
   "execution_count": 13,
   "metadata": {
    "collapsed": false
   },
   "outputs": [],
   "source": [
    "inj2016_names = format_names(inj2016_names)"
   ]
  },
  {
   "cell_type": "code",
   "execution_count": 14,
   "metadata": {
    "collapsed": false
   },
   "outputs": [],
   "source": [
    "inj2015 = pd.read_csv('2015_disabled_list.csv')\n",
    "inj2015_1 = inj2015[inj2015['Position'] == 'RHP']\n",
    "inj2015_2 = inj2015[inj2015['Position'] == 'LHP']\n",
    "inj2015 = pd.concat([inj2015_1, inj2015_2]).copy()\n",
    "inj2015_names = list(set(inj2015['Name']))"
   ]
  },
  {
   "cell_type": "code",
   "execution_count": null,
   "metadata": {
    "collapsed": true
   },
   "outputs": [],
   "source": []
  },
  {
   "cell_type": "code",
   "execution_count": 15,
   "metadata": {
    "collapsed": false
   },
   "outputs": [],
   "source": [
    "inj2015_names = format_names(inj2015_names)"
   ]
  },
  {
   "cell_type": "code",
   "execution_count": 16,
   "metadata": {
    "collapsed": true
   },
   "outputs": [],
   "source": [
    "newly_injured = []\n",
    "for name in inj2016_names:\n",
    "    if name not in inj2015_names:\n",
    "        newly_injured.append(name)"
   ]
  },
  {
   "cell_type": "markdown",
   "metadata": {},
   "source": [
    "Important exceptions: Rubby de la Rosa is coded \"delarru01\" in the Lahman set and so was improperly formatted. Zack Jones, Ray Black, and Jessie Biddle are all players who are on the 2016 MLB disabled list but have yet to debut in the big leagues. I'll adjust De La Rosa's name in our injured players to ensure it's properly formatted and remove those who haven't debuted, as (in my mind) they don't count."
   ]
  },
  {
   "cell_type": "code",
   "execution_count": 17,
   "metadata": {
    "collapsed": false
   },
   "outputs": [],
   "source": [
    "newly_injured.remove('rosaru01')\n",
    "newly_injured.append('delarru01')\n",
    "newly_injured.remove('jonesza01')\n",
    "newly_injured.remove('blackra01')\n",
    "newly_injured.remove('biddlje01')"
   ]
  },
  {
   "cell_type": "code",
   "execution_count": 18,
   "metadata": {
    "collapsed": false
   },
   "outputs": [],
   "source": [
    "for player in players:\n",
    "    players[player] = consol(players[player])\n",
    "    players[player] = tally_outs(players[player])\n",
    "    players[player] = season_load(players[player])"
   ]
  },
  {
   "cell_type": "code",
   "execution_count": 19,
   "metadata": {
    "collapsed": false
   },
   "outputs": [],
   "source": [
    "newly_injured = reconcile_names(newly_injured)"
   ]
  },
  {
   "cell_type": "code",
   "execution_count": 20,
   "metadata": {
    "collapsed": false
   },
   "outputs": [
    {
     "name": "stdout",
     "output_type": "stream",
     "text": [
      "dict_keys(['moyerja01', 'batismi01', 'oliveda02', 'hawkila01', 'isrinja01', 'pettian01', 'riverma01', 'suppaje01', 'hernali01', 'wrighja01', 'carpech01', 'colonba01', 'lowede01', 'millwke01', 'byrdati01', 'chenbr01', 'dempsry01', 'hallaro01', 'pavanca01', 'woodke02', 'burneaj01', 'carlybu01', 'cordefr01', 'doteloc01', 'durbich01', 'farnsky01', 'garcifr02', 'hudsoti01', 'lillyte01', 'motagu01', 'nathajo01', 'ortizra01', 'padilvi01', 'romerjc01', 'wellski01', 'wheelda01', 'wolfra02', 'arroybr01', 'buehrma01', 'choatra01', 'downssc01', 'garlajo01', 'grillja01', 'lopezro01', 'marquja01', 'ohmanwi01', 'pennybr01', 'santajo01', 'vogelry01', 'westbja01', 'zitoba01', 'balfogr01', 'beckejo02', 'beimejo01', 'benoijo01', 'cruzju02', 'dickera01', 'fuentbr01', 'lohseky01', 'lyonbr01', 'macdomi01', 'oswalro01', 'sabatcc01', 'sheetbe01', 'zambrca01', 'affelje01', 'bedarer01', 'cookaa01', 'felicpe01', 'haranaa01', 'lackejo01', 'leecl02', 'lewisco01', 'lidgebr01', 'louxsh01', 'myersbr01', 'peavyja01', 'perezol01', 'rauchjo01', 'rodnefe01', 'rodrifr03', 'soriara01', 'ayalalu01', 'belisma01', 'betanra01', 'bondeje01', 'bootcch01', 'capuach01', 'carradj01', 'chulkvi01', 'contrjo01', 'correke01', 'cottsne01', 'gaudich01', 'gonzaed01', 'gonzami02', 'greggke01', 'harenda01', 'jacksed01', 'lopezja02', 'madsory01', 'putzjj01', 'tsaoch01', 'valvejo01', 'willije02', 'aardsda01', 'adamsmi03', 'atchisc01', 'bellhe01', 'blacktr01', 'blantjo01', 'brunebr01', 'burnese01', 'bushda01', 'campsh01', 'colonro01', 'crainje01', 'delarjo01', 'floydga01', 'francfr01', 'francje01', 'frasoja01', 'garcija01', 'germaju01', 'greinza01', 'guerrma02', 'guthrje01', 'hillsh01', 'kazmisc01', 'kensilo01', 'leagubr01', 'loeka01', 'mainejo01', 'quallch01', 'sherrge01', 'thornma01', 'youngch03', 'accarje01', 'bakersc02', 'boyerbl01', 'breslcr01', 'broxtjo01', 'cainma01', 'cappsma01', 'coffeto01', 'davieky01', 'dukeza01', 'evelada01', 'feldmsc01', 'gorzeto01', 'hennse01', 'henslcl01', 'hernafe02', 'hillri01', 'howeljp01', 'johnsjo09', 'liriafr01', 'maholpa01', 'marcush01', 'mccarbr01', 'mcgowdu01', 'nunezle01', 'papeljo01', 'peraljo01', 'resopch01', 'rodriwa01', 'santaer01', 'saundjo01', 'staufti01', 'streehu01', 'vargaja01', 'verlaju01', 'volqued01', 'wainwad01', 'wangch01', 'wilsocj01', 'alberma01', 'billich01', 'braybi01', 'carmofa01', 'corpama01', 'feierry01', 'garzama01', 'hamelco01', 'hammeja01', 'hampsju01', 'humbeph01', 'janssca01', 'jimence01', 'jimenub01', 'johnsji04', 'karstje01', 'kinnejo01', 'lestejo01', 'loewead01', 'loganbo02', 'lowema01', 'marmoca01', 'marshse01', 'masseni01', 'millean01', 'minerza01', 'moseldu01', 'moylape01', 'mujiced01', 'narvech01', 'neshepa01', 'nolasri01', 'oflaher01', 'pauleda01', 'pelfrmi01', 'perezju01', 'perezra01', 'perkigl01', 'petityu01', 'ramirra02', 'saitota01', 'sanchan01', 'sanchbr01', 'sanchjo01', 'shielja02', 'slatedo01', 'stulter01', 'verasjo01', 'villaca01', 'weaveje02', 'wilsobr01', 'acostma01', 'albaljo01', 'baileho02', 'blackni01', 'blevije01', 'buchhcl01', 'bucknbi02', 'burtoja01', 'chambjo03', 'clippty01', 'danksjo01', 'detwiro01', 'galarar01', 'gallayo01', 'gutieju01', 'hanrajo01', 'happja01', 'hochelu01', 'hugheph01', 'jurrjja01', 'kendrky01', 'kenneia01', 'laffeaa01', 'lannajo01', 'linceti01', 'lindsma01', 'lizra01', 'matsuda01', 'mendolu01', 'moralfr01', 'morrobr01', 'ohlenro01', 'okajihi01', 'olsonga01', 'owingmi01', 'parrama01', 'pattotr01', 'paulife01', 'rapadcl01', 'reyesjo03', 'rowlary01', 'seddoch01', 'sloweke01', 'smithjo05', 'soriajo01', 'thatcjo01', 'thompri03', 'vanderi01', 'wilsojo03', 'wolfro01', 'zagurmi01', 'aceveal01', 'arredjo01', 'badenbu01', 'balesco01', 'boggsmi01', 'bowdemi01', 'buenofr01', 'carpean01', 'chaveje01', 'cokeph01', 'cuetojo01', 'dillati01', 'ekstrmi01', 'elbersc01', 'estrama01', 'garcija02', 'gonzagi01', 'grayje02', 'harrima01', 'herreyo01', 'hinshal01', 'hunteto02', 'jepseke01', 'kershcl01', 'korecbo01', 'kurodhi01', 'leblawa01', 'martish01', 'masteju01', 'mccleky01', 'mcdonja03', 'meekev01', 'mijarjo01', 'milleji02', 'mortoch02', 'motteja01', 'niemaje01', 'niesejo01', 'odayda01', 'outmajo01', 'palmema01', 'parnebo01', 'perezch01', 'priceda01', 'purceda01', 'reynogr01', 'richacl01', 'richmsc01', 'roberda08', 'roenijo01', 'romose01', 'samarje01', 'scherma01', 'simonal01', 'smithch07', 'thomaju01', 'troncra01', 'volstch01', 'wadeco01', 'wellsra01', 'wrighwe01', 'zieglbr01', 'anderbr04', 'axforjo01', 'bailean01', 'bardda01', 'bastaan01', 'belisro01', 'belltr01', 'bergebr02', 'berkeja01', 'bumgama01', 'burkegr01', 'cahiltr01', 'carraca01', 'cecilbr01', 'chacijh01', 'daleyma01', 'daviswa01', 'duensbr01', 'dunnmi01', 'egberja01', 'felizne01', 'fienca01', 'figaral01', 'fistedo01', 'frierer01', 'gregelu01', 'hackeer01', 'hansoto01', 'hernada01', 'hollade01', 'hudsoda01', 'huffda01', 'kellesh01', 'latosma01', 'lerouch01', 'lopezwi01', 'malonma02', 'manshje01', 'martevi01', 'marticr01', 'martijo07', 'matusbr01', 'mazzavi01', 'mccutda01', 'medlekr01', 'melanma01', 'millsbr02', 'mortecl01', 'moscogu01', 'norribu01', 'osullse01', 'perdolu01', 'perryry01', 'porceri01', 'poredaa01', 'ramosce01', 'rodrife02', 'rodrihe03', 'rogeres01', 'romerri01', 'runzlda01', 'rzepcma01', 'schleda01', 'sippto01', 'stammcr01', 'stroppe01', 'swarzan01', 'tazawju01', 'thayeda01', 'tillmch01', 'torreca01', 'ueharko01', 'valdelu01', 'vasques01', 'vealdo01', 'waltepj01', 'webbry01', 'zimmejo02', 'abadfe01', 'ambrihe01', 'arrieja01', 'beachbr01', 'burneal01', 'cashnan01', 'cassebo01', 'chapmar01', 'cishest01', 'coellro01', 'colemca01', 'dedunsa01', 'delroen01', 'demelsa01', 'doubrfe01', 'drabeky01', 'elyjo01', 'enrigba01', 'escaled01', 'geedi01', 'gomezje01', 'harrelu01', 'hellije01', 'herndda01', 'herrmfr01', 'hollagr01', 'igarary01', 'janseke01', 'jeffrje01', 'kimbrcr01', 'kintzbr01', 'kirkmmi01', 'kohnmi01', 'leakemi01', 'lecursa01', 'lincobr01', 'luebkco01', 'mainesc01', 'marinjh01', 'mateoma01', 'mathejo02', 'mayayu01', 'mcclemi01', 'mcgeeja01', 'mejiaje01', 'minormi01', 'norbejo01', 'novaiv01', 'ogandal01', 'ondrulo01', 'ottavad01', 'pestavi01', 'reynoma02', 'rogerma01', 'rosarsa02', 'rossty01', 'russeja02', 'salasfe01', 'salech01', 'sanabal01', 'santose01', 'schlibr01', 'stangda01', 'storedr01', 'strasst01', 'takahhi01', 'tomlijo01', 'valdera02', 'varvaan01', 'ventejo01', 'waldejo01', 'woodbl01', 'woodtr01', 'worleva01', 'adcocna01', 'albural01', 'alvarhe01', 'axelrdy01', 'bassan01', 'beatope01', 'beavabl01', 'beckch01', 'belowdu01', 'betande01', 'billibr02', 'brachbr01', 'brittza01', 'brothre01', 'carigan01', 'carpech02', 'carpeda01', 'carrejo01', 'cedenxa01', 'chatwty01', 'cletoma01', 'cobbal01', 'colemlo01', 'colliti01', 'collmjo01', 'cookry01', 'crowaa01', 'defraju01', 'delabst01', 'delarda01', 'delarru01', 'delgara01', 'delosfa01', 'diamosc01', 'dicksbr01', 'dolisra01', 'duffyda01', 'edlefst01', 'eovalna01', 'eppleco01', 'farquda01', 'fiersmi01', 'furbuch01', 'gearrco01', 'godfrgr01', 'gomesbr01', 'guerrja01', 'hagadni01', 'handbr01', 'hatchch02', 'hendrli01', 'herreke01', 'horstje01', 'hottoto01', 'hugheja02', 'klubeco01', 'kontoge01', 'lindbjo01', 'lockeje01', 'luekejo01', 'lylesjo01', 'lynnla01', 'maiermi01', 'martelu01', 'matthry01', 'mcallza01', 'mcdonda02', 'mileywa01', 'milonto01', 'moorema02', 'nicasju01', 'noesihe01', 'olivele01', 'parkeja02', 'paterjo01', 'peacobr01', 'perezlu01', 'phillza01', 'pinedmi01', 'pomerdr01', 'putnaza01', 'reedad01', 'richaga01', 'rodrian01', 'ruffich01', 'sanched01', 'santihe01', 'saverjo01', 'schumsk01', 'schwich01', 'schwimi01', 'scribev01', 'shawbr01', 'spencjo01', 'stewaza01', 'stinsjo01', 'stutemi01', 'surkaer01', 'tateyyo01', 'teafoev01', 'teherju01', 'thompaa01', 'torreal01', 'turneja01', 'valdejo01', 'villabr02', 'vizcaar01', 'wagnene01', 'waldrky01', 'watsoto01', 'weilaky01', 'whelake01', 'whiteal01', 'wilheto01', 'wilkad01', 'allenco01', 'archech01', 'aumonph01', 'avilalu01', 'barnesc01', 'bauertr01', 'belivje01', 'bogusbr01', 'boxbebr01', 'brownba01', 'brummty01', 'bundydy01', 'burnsco01', 'buterdr01', 'cabreal03', 'cabreed01', 'cappsca01', 'carpeda02', 'carsoro01', 'castile01', 'chapmja02', 'chenwe02', 'cingrto01', 'cloydty01', 'corbipa01', 'crawfev01', 'crosbca01', 'cruzrh01', 'darviyu01', 'davisch02', 'devrico01', 'diekmja01', 'doolise01', 'downsda02', 'dysonsa01', 'edginjo01', 'familje01', 'fickch01', 'fifest01', 'figuepe01', 'fontwi01', 'freemsa01', 'friedch01', 'garcich02', 'geltzst01', 'gentrcr01', 'gonzami03', 'griffaj01', 'grimmju01', 'harriwi02', 'harvema01', 'heathde01', 'hefneje01', 'hendeji01', 'hernape02', 'hoovejj01', 'hutchdr01', 'iwakuhi01', 'jenkich01', 'jennida01', 'johnsro07', 'johnsst02', 'jonesna01', 'kellyca01', 'kellyjo05', 'keuchda01', 'koehlto01', 'layneto01', 'loupaa01', 'luetglu01', 'machije01', 'maronni01', 'mathije01', 'mchugco01', 'mcpheky01', 'mikolmi01', 'millesh01', 'mitchdj01', 'morribr01', 'odorija01', 'omogrbr01', 'ortegjo01', 'oteroda01', 'parkebl01', 'peralwi01', 'perezma02', 'phelpda01', 'pomerst01', 'pryorst01', 'putkolu01', 'quintjo01', 'raleybr01', 'ramirel02', 'ramirer02', 'ramosaj01', 'redmoto01', 'roberty01', 'rodrist02', 'rosenbj01', 'rosentr01', 'rossro01', 'rusinch01', 'scahiro01', 'schepta01', 'septile01', 'skaggty01', 'smithwi04', 'smylydr01', 'socolmi01', 'storemi01', 'straida01', 'tayloan01', 'thornty01', 'tollesh01', 'verdury01', 'villape01', 'vinceni01', 'walljo02', 'warread01', 'weberth01', 'wernean01', 'wielajo01', 'wilsoju10', 'wisede01', 'alberan01', 'alvarjo02', 'amesst01', 'belfimi01', 'bettich01', 'blackvi01', 'blazemi01', 'boshebu01', 'brasiry01', 'brewech01', 'brittdr01', 'burgohi01', 'butleke01', 'cabrace01', 'caminar01', 'carroja01', 'castrsi01', 'chapmke02', 'chrisni01', 'cisnejo01', 'claibpr01', 'clarkza01', 'clemepa02', 'colege01', 'colomal01', 'cosarja01', 'cumptbr01', 'daviser02', 'delareu01', 'delatjo01', 'deleojo02', 'dominjo01', 'dunnija01', 'dwyerch01', 'elmorja01', 'erlinro01', 'fernajo02', 'fieldjo03', 'flynnbr01', 'freemju02', 'fujikky01', 'fuldsa01', 'garcilu03', 'garcion01', 'gastjo01', 'gausmke01', 'germego01', 'gibsoky01', 'gonzaal03', 'grayso01', 'guilmpr01', 'haleda02', 'handdo01', 'harrijo05', 'hellwjo01', 'hembrhe01', 'holmbda01', 'hynesco01', 'irwinph01', 'johnser04', 'johnskr01', 'jordata01', 'josepdo01', 'karnsna01', 'kickhmi01', 'krolia01', 'lafrobo01', 'langwma01', 'leech01', 'leesmch01', 'limch01', 'loch02', 'lyonsty01', 'magilma01', 'manesse01', 'marshbr01', 'martica04', 'martida02', 'martiet01', 'maurebr01', 'mcdonjo03', 'mcfartj01', 'medinyo01', 'murphda07', 'nelsoji02', 'nolinse01', 'nunovi01', 'oberhbr01', 'olmosed01', 'ortizjo05', 'partccu01', 'paxtoja01', 'petrija01', 'pettijo02', 'pimenst01', 'pressry01', 'raburry01', 'ramirjc01', 'rasmuco02', 'reckean01', 'reedev01', 'reidry01', 'ricesc01', 'rienzan01', 'roarkta01', 'roblema01', 'roech01', 'romeren01', 'rondobr01', 'rondohe01', 'rosscza01', 'rothmi01', 'ryuhy01', 'salazda01', 'shoemma01', 'siegrke01', 'smithbu03', 'spruize01', 'tepesni01', 'thielca01', 'tonkimi01', 'ventuyo01', 'wachami01', 'walketa01', 'webbda01', 'webstal01', 'welkedu01', 'wellsca01', 'wheelza01', 'wilsoal01', 'withrch01', 'woodal02', 'wootero01', 'workmbr01', 'wrighst01', 'zeidjo01', 'achteaj01', 'adamsau01', 'alvarda01', 'alvarrj01', 'anderch01', 'annade01', 'arencjp01', 'baezpe01', 'bakerjo01', 'barnema01', 'barreaa01', 'bassich01', 'bedroca01', 'beeleda01', 'bergmch01', 'bochybr02', 'bolsimi01', 'bonilli01', 'brookaa01', 'brownbr02', 'buchada01', 'buchaja01', 'buchtry01', 'butleed01', 'campole01', 'carpmi01', 'carrosc02', 'chafian01', 'claudal01', 'contrca01', 'corcida01', 'cordier01', 'couloda01', 'crockky01', 'darnelo01', 'degroja01', 'denniry01', 'descada01', 'desclan01', 'despaod01', 'diazja01', 'diazju03', 'dunnad01', 'edwarjo02', 'eliasro01', 'escobed02', 'farmebu01', 'finnebr01', 'flandyo01', 'foltymi01', 'fornaer01', 'friasca01', 'garcefr01', 'garcile02', 'garciyi01', 'gileske01', 'gimench01', 'goedder01', 'gonzama02', 'gonzami05', 'graveke01', 'greenni02', 'greensh02', 'grubeja01', 'hagenbr01', 'hahnje01', 'hardybl01', 'heanean01', 'hendrky01', 'hestoch01', 'hillta01', 'holdzjo01', 'hollama01', 'housetj01', 'jaimeju01', 'jokiser01', 'kahnlto01', 'kleinph01', 'knebeco01', 'laneja01', 'leonedo01', 'lobstky01', 'maldoma01', 'mariomi01', 'marksju01', 'marshev01', 'martich02', 'martini01', 'matzety01', 'maytr01', 'mccoypa01', 'mendero01', 'merceme01', 'milleju02', 'mitchbr01', 'montera01', 'morelmi01', 'morinmi01', 'nerishe01', 'norrida01', 'overbly01', 'owensru01', 'pattere02', 'pattosp01', 'pinoyo01', 'pricebr01', 'quackke01', 'ramirjo02', 'ramirne01', 'ranauan01', 'rasmuro01', 'rayro02', 'riefecj01', 'roachdo01', 'rodriwi02', 'rominan01', 'rondojo01', 'rosinse01', 'rowenbe01', 'rucindr01', 'ryanky01', 'sadleca02', 'sanchaa01', 'schlogu01', 'schulbo02', 'shrevch01', 'simmosh01', 'smithca02', 'smithch08', 'snidetr01', 'snodgsc01', 'stitema01', 'strichu01', 'stromma01', 'tanakma01', 'thomaia01', 'thompta01', 'tollest01', 'treinbl01', 'tropeni01', 'tuivasa01', 'verhadr01', 'wadats01', 'wangwe01', 'westma03', 'whitlch01', 'worthda01', 'yateski01', 'alexasc01', 'almonmi01', 'amarial01', 'anderco01', 'andrima01', 'araujel01', 'armstsh01', 'arojo01', 'asheral01', 'banuema01', 'barraky01', 'barriyh01', 'beckch02', 'bellaan01', 'boydma01', 'brachsi01', 'bradlar01', 'brighja01', 'broadmi01', 'burawda01', 'burgoen02', 'castran01', 'castrmi01', 'coleaj01', 'conlead01', 'cooneti01', 'copelsc01', 'cornejo01', 'cothaca01', 'cravyty01', 'cunnibr02', 'davieza01', 'davisik02', 'deckeja01', 'delosab01', 'denorch01', 'depaujo02', 'drakeol01', 'duffety01', 'dullry01', 'edwarca01', 'eickhje01', 'ellinbr02', 'faulkan01', 'felizmi01', 'ferreje01', 'floreke01', 'francje02', 'frankni01', 'garcija03', 'gilmase01', 'givenmy01', 'godleza01', 'goforda01', 'gomesjo01', 'gonzach01', 'gonzase01', 'goodyni01', 'gotttr01', 'gracema02', 'grahajr01', 'grayjo02', 'guaipma01', 'guerrde01', 'guerrju02', 'gurkaja01', 'hallco01', 'harrimi03', 'hatlema01', 'hesslke01', 'hinojda01', 'housead01', 'ibarred01', 'iglesra01', 'jacksja01', 'jackslu01', 'johnsbr02', 'jonesga02', 'jungmta01', 'kelake01', 'kellyry01', 'knudsgu01', 'lambjo02', 'larocad01', 'lazora01', 'leathja01', 'leeza01', 'leonar01', 'liberad01', 'lindgja01', 'lopezjo02', 'lorenmi01', 'marimsu01', 'marksma01', 'martico01', 'martira04', 'matzst01', 'mazzoco01', 'mcculla02', 'mcgousc01', 'mckiran01', 'meyeral01', 'montafr01', 'montgmi01', 'moorety01', 'morendi01', 'morgaad01', 'morriak01', 'moscojo01', 'muratto01', 'murraco01', 'nesbian01', 'nicolju01', 'nolaaa01', 'obergsc01', 'ogandne01', 'olsonty01', 'orourry01', 'osichjo01', 'osunaro01', 'owenshe02', 'pazosja01', 'penaar01', 'perezwi01', 'pindebr01', 'ramiral03', 'ramirno01', 'ravinjo01', 'reaco01', 'rearich01', 'reedch01', 'riverfe01', 'roberke02', 'robincl01', 'robinsh01', 'robleha01', 'rodonca01', 'rodried05', 'rollida01', 'rosalad01', 'rossda01', 'rossjo01', 'rumbeni01', 'ryanbr01', 'sampske01', 'schugaj01', 'severlu01', 'smithjo07', 'solissa01', 'sotogi01', 'sucreje01', 'suzukic01', 'syndeno01', 'teperry01', 'tracyma01', 'urenajo01', 'valdejo03', 'velasvi01', 'vendipa01', 'verrelo01', 'wagnety01', 'weberry01', 'wilsoty01', 'winklda01', 'wislema01', 'wojcias01', 'wrighmi01', 'zychto01', 'adlemti01', 'alcanra01', 'altavda01', 'anderty01', 'antoldu01', 'aquinja01', 'barbajo01', 'barneda01', 'barneda02', 'barneja01', 'barneto01', 'barreja01', 'baumabu01', 'berrijo01', 'bethach01', 'biagijo01', 'blachty01', 'blairaa01', 'bleieri01', 'boscawi01', 'bowmama01', 'bradlje01', 'braulst01', 'briceau01', 'bridwpa01', 'buschma01', 'bushma01', 'cabrema01', 'campojo01', 'carasma01', 'cervehu01', 'cessalu01', 'chargjt01', 'clevimi01', 'colonjo01', 'concege01', 'cottojh01', 'cuevawi01', 'curtiza01', 'danisty01', 'daytogr01', 'deanpa02', 'delacjo01', 'deleojo03', 'dermoma01', 'devench02', 'diazda01', 'diazed04', 'eflinza01', 'egeco01', 'eschja01', 'escobed01', 'estevca01', 'flahery01', 'florody01', 'fulmeca01', 'fulmemi01', 'gamboed01', 'gantjo01', 'garnepe01', 'gartory01', 'giolilu01', 'girodch01', 'glasnty01', 'gloveko01', 'goinsry01', 'greench03', 'gsellro01', 'guerrta01', 'gustaja01', 'hartdo01', 'hathast01', 'hayesdr01', 'hellebe01', 'hoffmje02', 'holadbr01', 'holdejo02', 'holtty01', 'hoyinja01', 'hoytja01', 'hurshja01', 'jenkity01', 'kiekhde01', 'kochma01', 'kratzer01', 'kuhlch01', 'ladenty01', 'lamarry01', 'lawde01', 'leclejo01', 'lightpa01', 'lopezre01', 'lugose01', 'maedake01', 'magnida01', 'mahlegr01', 'manaese01', 'mantijo01', 'marquge01', 'marteke02', 'mayermi01', 'mccarke01', 'mejiaad01', 'melviti01', 'mendeyo01', 'mengdda01', 'merriry01', 'millsal02', 'minayju01', 'miranar01', 'molledu01', 'montemi01', 'morimsh01', 'morriaj01', 'motteta01', 'mulleco01', 'musgrjo01', 'nealza01', 'ohse01', 'okertst01', 'overtdi01', 'paulida01', 'penafe01', 'peralwa01', 'perdolu02', 'phegljo01', 'plutkad01', 'poundbr01', 'purkema01', 'ramosed02', 'reedco01', 'reyesal02', 'rodgebr01', 'rodrijo04', 'rogerta01', 'sampsad01', 'sardilu01', 'saupowa01', 'schuspa01', 'scottro02', 'shiplbr01', 'shuckja01', 'smithbl01', 'smithja06', 'smokejo01', 'snellbl01', 'somsela01', 'stephro01', 'stewabr01', 'strahma01', 'stratch01', 'stripro01', 'stumpda01', 'sturdty01', 'suareal01', 'suterbr01', 'taillja01', 'tejadru01', 'thompja03', 'tollias01', 'torrejo02', 'triggan01', 'uriasju01', 'vargace01', 'weavelu01', 'wendejb01', 'whalero01', 'whitety01', 'willitr01', 'wimmeal01', 'wittgni01', 'wrighda04', 'ynoaga01', 'ynoami01', 'youngma03', 'zastrro01'])\n"
     ]
    }
   ],
   "source": []
  },
  {
   "cell_type": "code",
   "execution_count": 21,
   "metadata": {
    "collapsed": false
   },
   "outputs": [],
   "source": [
    "\n",
    "        "
   ]
  },
  {
   "cell_type": "markdown",
   "metadata": {},
   "source": [
    "There are a number of players who do not appear in the 2016 season, nor were placed on the disabled list for the first time. This is due to retirement or moving to MiLB in the vast majority of cases. I'll also want to remove players who were inactive for both 2015 and 2016, as I'm looking specifically at previously \"healthy\" players who joined the 2016 disabled list after a full 2015 season free from disability."
   ]
  },
  {
   "cell_type": "code",
   "execution_count": 22,
   "metadata": {
    "collapsed": false
   },
   "outputs": [],
   "source": [
    "players_to_exclude = []\n",
    "for player in players:\n",
    "    if 2016 not in list(players[player]['Year']):\n",
    "        if player not in newly_injured:\n",
    "            players_to_exclude.append(player)\n",
    "            \n",
    "for player in players_to_exclude:\n",
    "    del players[player]"
   ]
  },
  {
   "cell_type": "code",
   "execution_count": 23,
   "metadata": {
    "collapsed": false
   },
   "outputs": [
    {
     "data": {
      "text/plain": [
       "0.23746701846965698"
      ]
     },
     "execution_count": 23,
     "metadata": {},
     "output_type": "execute_result"
    }
   ],
   "source": [
    "len(newly_injured)/len(players)"
   ]
  },
  {
   "cell_type": "markdown",
   "metadata": {},
   "source": [
    "With the information we've aggregated so far, we can already see that 23.7% of the eligible pitchers, or almost a quarter, have joined the disabled list in 2016 at some point."
   ]
  },
  {
   "cell_type": "code",
   "execution_count": 24,
   "metadata": {
    "collapsed": false
   },
   "outputs": [
    {
     "name": "stdout",
     "output_type": "stream",
     "text": [
      "   Year  Outs Pitched  Outs TD Start  Outs TD Finish  Mean Outs/Season  \\\n",
      "1  2011           426            0.0           426.0             426.0   \n",
      "2  2012           194          426.0           620.0             426.0   \n",
      "3  2013           334          620.0           954.0             310.0   \n",
      "4  2014            72          954.0          1026.0             318.0   \n",
      "5  2016           474         1026.0          1500.0             256.5   \n",
      "\n",
      "   Season Load TD  Season Load (Career)  \n",
      "1        1.000000              1.420000  \n",
      "2        0.455399              0.646667  \n",
      "3        1.077419              1.113333  \n",
      "4        0.226415              0.240000  \n",
      "5        1.847953              1.580000  \n"
     ]
    }
   ],
   "source": [
    "print(players['chatwty01'])"
   ]
  },
  {
   "cell_type": "code",
   "execution_count": null,
   "metadata": {
    "collapsed": false
   },
   "outputs": [],
   "source": []
  },
  {
   "cell_type": "code",
   "execution_count": 25,
   "metadata": {
    "collapsed": false
   },
   "outputs": [],
   "source": [
    "for name in newly_injured:\n",
    "    if name not in players:\n",
    "        print(name)"
   ]
  },
  {
   "cell_type": "code",
   "execution_count": null,
   "metadata": {
    "collapsed": false
   },
   "outputs": [],
   "source": []
  },
  {
   "cell_type": "code",
   "execution_count": 26,
   "metadata": {
    "collapsed": false
   },
   "outputs": [],
   "source": [
    "def set_plot(pitchers, names, column, n, year):\n",
    "    plt.figure(figsize=(16,10))\n",
    "    length = len(pitchers)\n",
    "    group_size = length/n\n",
    "    ranked_values = []\n",
    "    for pitcher in pitchers:\n",
    "        df = pitchers[pitcher]\n",
    "        if year not in list(df['Year']):\n",
    "            ranked_values.append(0)\n",
    "        else:\n",
    "            i = list(df[df['Year']==year].index)[0]\n",
    "            ranked_values.append(int(df.loc[i, column]))\n",
    "    ranked_values.sort()\n",
    "    plt.plot(ranked_values)\n",
    "    for i in range(0, n):\n",
    "        plt.axhline(y=(ranked_values[int(group_size * i)]), color='k', linestyle='dashed')\n",
    "    rank_iter = 1\n",
    "    for pitcher in pitchers:\n",
    "        df = pitchers[pitcher]\n",
    "        i = df[df['Year']==year].index\n",
    "        if pitcher in names:\n",
    "                value = int(df.loc[i, column])\n",
    "                rank = ranked_values.index(value)\n",
    "                plt.scatter(x=rank, y=value, marker='x')\n",
    "\n",
    "                \n",
    "def report(pitchers, names, column, n, year):\n",
    "    length = len(pitchers)\n",
    "    group_size = length/n\n",
    "    ranked_values = []\n",
    "    for pitcher in pitchers:\n",
    "        df = pitchers[pitcher]\n",
    "        if year not in list(df['Year']):\n",
    "            ranked_values.append(0)\n",
    "        else:\n",
    "            i = list(df[df['Year']==year].index)[0]\n",
    "            ranked_values.append(int(df.loc[i, column]))\n",
    "    ranked_values.sort()\n",
    "    groups = {}\n",
    "    cutoffs = []\n",
    "    for i in range(0, n):\n",
    "        groups['group number {}'.format(str(i+1))] = 0\n",
    "        cutoffs.append(ranked_values[int(group_size * i)])\n",
    "    for pitcher in names:\n",
    "        df = pitchers[pitcher]\n",
    "        value = 0\n",
    "        if year not in list(df['Year']):\n",
    "            pass\n",
    "        else:\n",
    "            i = df[df['Year']==year].index\n",
    "            value = int(df.loc[i, column])\n",
    "            for x in range(0, n):\n",
    "                if x == 0:\n",
    "                    if value <= cutoffs[x]:\n",
    "                        groups['group number {}'.format(x+1)] += 1\n",
    "                elif 0 < x < (n-1):\n",
    "                    if cutoffs[x-1] < value <= cutoffs[x]:\n",
    "                        groups['group number {}'.format(x+1)] += 1\n",
    "                elif x == (n-1):\n",
    "                    if cutoffs[x] <= value:\n",
    "                        groups['group number {}'.format(x+1)] += 1\n",
    "    for group in groups:\n",
    "        print('{} has {} in it.'.format(group, groups[group]))\n",
    "                        \n",
    "            \n",
    "    \n",
    "        "
   ]
  },
  {
   "cell_type": "code",
   "execution_count": null,
   "metadata": {
    "collapsed": false
   },
   "outputs": [],
   "source": []
  },
  {
   "cell_type": "code",
   "execution_count": 27,
   "metadata": {
    "collapsed": false
   },
   "outputs": [
    {
     "ename": "TypeError",
     "evalue": "cannot convert the series to <class 'int'>",
     "output_type": "error",
     "traceback": [
      "\u001b[0;31m---------------------------------------------------------------------------\u001b[0m",
      "\u001b[0;31mTypeError\u001b[0m                                 Traceback (most recent call last)",
      "\u001b[0;32m<ipython-input-27-cc7f2b2e9341>\u001b[0m in \u001b[0;36m<module>\u001b[0;34m()\u001b[0m\n\u001b[0;32m----> 1\u001b[0;31m \u001b[0mset_plot\u001b[0m\u001b[0;34m(\u001b[0m\u001b[0mplayers\u001b[0m\u001b[0;34m,\u001b[0m \u001b[0mnewly_injured\u001b[0m\u001b[0;34m,\u001b[0m \u001b[0;34m'Outs Pitched'\u001b[0m\u001b[0;34m,\u001b[0m \u001b[0;36m4\u001b[0m\u001b[0;34m,\u001b[0m \u001b[0;36m2016\u001b[0m\u001b[0;34m)\u001b[0m\u001b[0;34m\u001b[0m\u001b[0m\n\u001b[0m",
      "\u001b[0;32m<ipython-input-26-580cb5efdbf2>\u001b[0m in \u001b[0;36mset_plot\u001b[0;34m(pitchers, names, column, n, year)\u001b[0m\n\u001b[1;32m     20\u001b[0m         \u001b[0mi\u001b[0m \u001b[0;34m=\u001b[0m \u001b[0mdf\u001b[0m\u001b[0;34m[\u001b[0m\u001b[0mdf\u001b[0m\u001b[0;34m[\u001b[0m\u001b[0;34m'Year'\u001b[0m\u001b[0;34m]\u001b[0m\u001b[0;34m==\u001b[0m\u001b[0myear\u001b[0m\u001b[0;34m]\u001b[0m\u001b[0;34m.\u001b[0m\u001b[0mindex\u001b[0m\u001b[0;34m\u001b[0m\u001b[0m\n\u001b[1;32m     21\u001b[0m         \u001b[0;32mif\u001b[0m \u001b[0mpitcher\u001b[0m \u001b[0;32min\u001b[0m \u001b[0mnames\u001b[0m\u001b[0;34m:\u001b[0m\u001b[0;34m\u001b[0m\u001b[0m\n\u001b[0;32m---> 22\u001b[0;31m                 \u001b[0mvalue\u001b[0m \u001b[0;34m=\u001b[0m \u001b[0mint\u001b[0m\u001b[0;34m(\u001b[0m\u001b[0mdf\u001b[0m\u001b[0;34m.\u001b[0m\u001b[0mloc\u001b[0m\u001b[0;34m[\u001b[0m\u001b[0mi\u001b[0m\u001b[0;34m,\u001b[0m \u001b[0mcolumn\u001b[0m\u001b[0;34m]\u001b[0m\u001b[0;34m)\u001b[0m\u001b[0;34m\u001b[0m\u001b[0m\n\u001b[0m\u001b[1;32m     23\u001b[0m                 \u001b[0mrank\u001b[0m \u001b[0;34m=\u001b[0m \u001b[0mranked_values\u001b[0m\u001b[0;34m.\u001b[0m\u001b[0mindex\u001b[0m\u001b[0;34m(\u001b[0m\u001b[0mvalue\u001b[0m\u001b[0;34m)\u001b[0m\u001b[0;34m\u001b[0m\u001b[0m\n\u001b[1;32m     24\u001b[0m                 \u001b[0mplt\u001b[0m\u001b[0;34m.\u001b[0m\u001b[0mscatter\u001b[0m\u001b[0;34m(\u001b[0m\u001b[0mx\u001b[0m\u001b[0;34m=\u001b[0m\u001b[0mrank\u001b[0m\u001b[0;34m,\u001b[0m \u001b[0my\u001b[0m\u001b[0;34m=\u001b[0m\u001b[0mvalue\u001b[0m\u001b[0;34m,\u001b[0m \u001b[0mmarker\u001b[0m\u001b[0;34m=\u001b[0m\u001b[0;34m'x'\u001b[0m\u001b[0;34m)\u001b[0m\u001b[0;34m\u001b[0m\u001b[0m\n",
      "\u001b[0;32m/home/alliedtoasters/anaconda3/lib/python3.6/site-packages/pandas/core/series.py\u001b[0m in \u001b[0;36mwrapper\u001b[0;34m(self)\u001b[0m\n\u001b[1;32m     91\u001b[0m             \u001b[0;32mreturn\u001b[0m \u001b[0mconverter\u001b[0m\u001b[0;34m(\u001b[0m\u001b[0mself\u001b[0m\u001b[0;34m.\u001b[0m\u001b[0miloc\u001b[0m\u001b[0;34m[\u001b[0m\u001b[0;36m0\u001b[0m\u001b[0;34m]\u001b[0m\u001b[0;34m)\u001b[0m\u001b[0;34m\u001b[0m\u001b[0m\n\u001b[1;32m     92\u001b[0m         raise TypeError(\"cannot convert the series to \"\n\u001b[0;32m---> 93\u001b[0;31m                         \"{0}\".format(str(converter)))\n\u001b[0m\u001b[1;32m     94\u001b[0m \u001b[0;34m\u001b[0m\u001b[0m\n\u001b[1;32m     95\u001b[0m     \u001b[0;32mreturn\u001b[0m \u001b[0mwrapper\u001b[0m\u001b[0;34m\u001b[0m\u001b[0m\n",
      "\u001b[0;31mTypeError\u001b[0m: cannot convert the series to <class 'int'>"
     ]
    },
    {
     "data": {
      "image/png": "[encoded data removed]",
      "text/plain": [
       "<matplotlib.figure.Figure at 0xa9e3de8c>"
      ]
     },
     "metadata": {},
     "output_type": "display_data"
    }
   ],
   "source": [
    "set_plot(players, newly_injured, 'Outs Pitched', 4, 2016)\n"
   ]
  },
  {
   "cell_type": "code",
   "execution_count": null,
   "metadata": {
    "collapsed": false
   },
   "outputs": [],
   "source": [
    "report(players, newly_injured, 'Outs Pitched', 3, 2015)"
   ]
  },
  {
   "cell_type": "code",
   "execution_count": null,
   "metadata": {
    "collapsed": false
   },
   "outputs": [],
   "source": [
    "for player in newly_injured:\n",
    "    if player not in players:\n",
    "        print(player)\n",
    "    "
   ]
  },
  {
   "cell_type": "code",
   "execution_count": null,
   "metadata": {
    "collapsed": false
   },
   "outputs": [],
   "source": [
    "for player in newly_injured:\n",
    "    i = index"
   ]
  },
  {
   "cell_type": "code",
   "execution_count": null,
   "metadata": {
    "collapsed": false
   },
   "outputs": [],
   "source": []
  },
  {
   "cell_type": "code",
   "execution_count": null,
   "metadata": {
    "collapsed": false
   },
   "outputs": [],
   "source": []
  },
  {
   "cell_type": "code",
   "execution_count": null,
   "metadata": {
    "collapsed": false
   },
   "outputs": [],
   "source": []
  },
  {
   "cell_type": "code",
   "execution_count": null,
   "metadata": {
    "collapsed": false
   },
   "outputs": [],
   "source": [
    "\n",
    "        \n",
    "        \n",
    "    "
   ]
  },
  {
   "cell_type": "code",
   "execution_count": null,
   "metadata": {
    "collapsed": false
   },
   "outputs": [],
   "source": [
    "\n",
    "    "
   ]
  },
  {
   "cell_type": "code",
   "execution_count": null,
   "metadata": {
    "collapsed": false
   },
   "outputs": [],
   "source": []
  },
  {
   "cell_type": "code",
   "execution_count": null,
   "metadata": {
    "collapsed": false
   },
   "outputs": [],
   "source": []
  },
  {
   "cell_type": "code",
   "execution_count": null,
   "metadata": {
    "collapsed": false
   },
   "outputs": [],
   "source": []
  },
  {
   "cell_type": "code",
   "execution_count": null,
   "metadata": {
    "collapsed": false
   },
   "outputs": [],
   "source": []
  },
  {
   "cell_type": "code",
   "execution_count": null,
   "metadata": {
    "collapsed": false
   },
   "outputs": [],
   "source": []
  },
  {
   "cell_type": "code",
   "execution_count": null,
   "metadata": {
    "collapsed": false
   },
   "outputs": [],
   "source": []
  },
  {
   "cell_type": "code",
   "execution_count": null,
   "metadata": {
    "collapsed": false
   },
   "outputs": [],
   "source": []
  },
  {
   "cell_type": "code",
   "execution_count": null,
   "metadata": {
    "collapsed": true
   },
   "outputs": [],
   "source": []
  },
  {
   "cell_type": "code",
   "execution_count": null,
   "metadata": {
    "collapsed": false
   },
   "outputs": [],
   "source": []
  },
  {
   "cell_type": "code",
   "execution_count": null,
   "metadata": {
    "collapsed": true
   },
   "outputs": [],
   "source": []
  },
  {
   "cell_type": "code",
   "execution_count": null,
   "metadata": {
    "collapsed": true
   },
   "outputs": [],
   "source": []
  }
 ],
 "metadata": {
  "kernelspec": {
   "display_name": "Python 3",
   "language": "python",
   "name": "python3"
  },
  "language_info": {
   "codemirror_mode": {
    "name": "ipython",
    "version": 3
   },
   "file_extension": ".py",
   "mimetype": "text/x-python",
   "name": "python",
   "nbconvert_exporter": "python",
   "pygments_lexer": "ipython3",
   "version": "3.6.0"
  }
 },
 "nbformat": 4,
 "nbformat_minor": 2
}
