{
 "cells": [
  {
   "cell_type": "markdown",
   "metadata": {},
   "source": [
    "    In order to complete my first capstone project for the Thinkful data science course, I reached out to my family email group for any ideas for a research topic. I recieved several suggestions but decided to persue a sports-related topic because I know there is a lot of easy-to-access sports data available.\n",
    "    My cousin is curious about a correlation between pitchers' activity in one season and their being placed on the disabled list the next season. In order to make this question approachable with my very limited experience working with messy data, I've decided to look specifically at the 2015 and 2016 seasons.\n",
    "    The number of innings pitched per season is a starting point but probably insufficient. Starting pitchers will appear in far more innings than the rest of the pitching staff, for example. I'll try to come up with a notion of a \"normal\" season for a given pitcher based on their career history to see if there's a correlation between a relatively busy season for a pitcher and joining the disabled list.\n",
    "    \n",
    "    \n",
    "Questions:\n",
    "\n",
    "    1. Of the MLB pitchers who appeared in both the 2015 and 2016 seasons, how many appeared on the disabled list (DL) in 2016 for the first time in that period? (Appear on the DL in 2016 and not in 2015).\n",
    "    2. Is there a correlation between those pitchers who joined the DL in 2016 and the number of outs pitched (or innings pitched times three) they pitched in the 2015 season?\n",
    "    3. Is there a correlation between those pitchers and their activity in the 2015 season relative to "
   ]
  },
  {
   "cell_type": "code",
   "execution_count": 128,
   "metadata": {
    "collapsed": true
   },
   "outputs": [],
   "source": [
    "import numpy as np\n",
    "import pandas as pd\n",
    "from datawrangler import *\n",
    "from analyzer import *\n",
    "import matplotlib.pyplot as plt\n",
    "%matplotlib inline"
   ]
  },
  {
   "cell_type": "code",
   "execution_count": 129,
   "metadata": {
    "collapsed": false
   },
   "outputs": [],
   "source": [
    "def players_outs(df_in):\n",
    "    players = {}\n",
    "    for row in df_in.index:\n",
    "        rowdict = dict(df_in.loc[row])\n",
    "        name = rowdict['playerID']\n",
    "        if name not in players:\n",
    "            df = pd.DataFrame(columns=['Year', 'Outs Pitched'], index=[1])\n",
    "            df['Year'] = rowdict['year']\n",
    "            df['Outs Pitched'] = rowdict['Outs Pitched']\n",
    "            players[name] = df\n",
    "        else:\n",
    "            df = pd.DataFrame(columns=['Year', 'Outs Pitched'], index=[(list(players[name].index)[-1]+1)])\n",
    "            df['Year'] = rowdict['year']\n",
    "            df['Outs Pitched'] = rowdict['Outs Pitched']\n",
    "            players[name] = pd.concat([players[name], df])\n",
    "    return players\n",
    "    \n",
    "def consol(df):\n",
    "    count = {}\n",
    "    for row in df.index:\n",
    "        count[df.loc[row, 'Year']] = 0\n",
    "    for row in df.index:\n",
    "        count[df.loc[row, 'Year']] += df.loc[row, 'Outs Pitched']\n",
    "    result = pd.DataFrame(index=range(df.index[0], len(count)+df.index[0]))\n",
    "    result['Year'] = count.keys()\n",
    "    result['Outs Pitched'] = count.values()\n",
    "    return result\n",
    "\n",
    "def fill_gaps(df):\n",
    "    last_year = int(df.iloc[0]['Year'])\n",
    "    years_to_add = []\n",
    "    for row in df.index:\n",
    "        this_year = int(df.loc[row, 'Year'])\n",
    "        if (this_year - last_year) != 1:\n",
    "            gap = this_year - last_year\n",
    "            for i in range(1, gap):\n",
    "                years_to_add.append(last_year + 1)\n",
    "        last_year = this_year\n",
    "    for year in years_to_add:\n",
    "        i = list(df[df['Year']==(year - 1)].index)[0]\n",
    "        new_df = pd.DataFrame(columns = df.columns, index=range(1, (len(df) + 2)))\n",
    "        years = list(df.loc[1:i, 'Year']) + [year] + list(df.loc[i+1:, 'Year'])\n",
    "        outs_pitched = list(df.loc[1:i, 'Outs Pitched']) + [0] + list(df.loc[i+1:, 'Outs Pitched'])\n",
    "        new_df['Year'] = years\n",
    "        new_df['Outs Pitched'] = outs_pitched\n",
    "        df = new_df\n",
    "    if 2015 in list(df['Year']):\n",
    "        if df.iloc[-1]['Year'] != 2016:\n",
    "            row2016 = pd.DataFrame(columns=df.columns)\n",
    "            row2016['Year'] = 2016\n",
    "            df = pd.concat([df, pd.DataFrame])\n",
    "    return df\n",
    "        \n",
    "\n",
    "def tally_outs(df):\n",
    "    if len(df) <= 1:\n",
    "        df.loc[1, 'Outs TD Start'] = 0\n",
    "        df.loc[1, 'Outs TD Finish'] = df.loc[1, 'Outs Pitched']\n",
    "    else:\n",
    "        for i, row in enumerate(df.index):\n",
    "            if i == 0:\n",
    "                df.loc[row, 'Outs TD Start'] = 0\n",
    "            else:\n",
    "                df.loc[row, 'Outs TD Start'] = df.loc[row-1, 'Outs Pitched'] + df.loc[row-1, 'Outs TD Start']\n",
    "                df.loc[row-1, 'Outs TD Finish'] = df.loc[row, 'Outs TD Start']\n",
    "        df.iloc[-1, 3] = df.iloc[-1, 2] + df.iloc[-1, 1]\n",
    "    return df\n",
    "\n",
    "def season_load(df):\n",
    "    if len(df) <= 1:\n",
    "        df.loc[1, 'Mean Outs/Season'] = df.loc[1, 'Outs Pitched']\n",
    "        df.loc[1, 'Season Load TD'] = 1\n",
    "        df.loc[1, 'Season Load (Career)'] = 1\n",
    "    else:\n",
    "        for row in df.index:\n",
    "            if row == 1:\n",
    "                df.loc[1, 'Mean Outs/Season'] = df.loc[1, 'Outs Pitched']\n",
    "            else:\n",
    "                df.loc[row, 'Mean Outs/Season'] = df.loc[row, 'Outs TD Start']/(row-1)\n",
    "            if df.loc[row, 'Mean Outs/Season'] != 0:\n",
    "                df.loc[row, 'Season Load TD'] = df.loc[row, 'Outs Pitched']/df.loc[row, 'Mean Outs/Season']\n",
    "            else:\n",
    "                df.loc[row, 'Season Load TD'] = 1\n",
    "        total_outs = df.iloc[-1]['Outs TD Finish']\n",
    "        avg_outs = total_outs/len(df)\n",
    "        for row in df.index:\n",
    "            if avg_outs != 0:\n",
    "                df.loc[row, 'Season Load (Career)'] = df.loc[row, 'Outs Pitched'] / avg_outs\n",
    "            else:\n",
    "                df.loc[row, 'Season Load (Career)'] = 1\n",
    "    return df\n",
    "\n",
    "def format_names(name_list):\n",
    "    for name in name_list:\n",
    "        index = name_list.index(name)\n",
    "        name = name.lower()\n",
    "        names = name.split()\n",
    "        name1 = names[-1]\n",
    "        if \"'\" in name1:\n",
    "            name1 = name1[0] + name1[2:]\n",
    "        if len(name1) >= 5:\n",
    "            name1 = name1[0:5]\n",
    "        name2 = ''\n",
    "        if names[0][1] == '.':\n",
    "            name2 = names[0][0] + names[0][2]\n",
    "        else:\n",
    "            name2 = names[0][0:2]\n",
    "        newname = name1 + name2 + '01'\n",
    "        name_list[index] = newname\n",
    "    return name_list\n",
    "\n",
    "def reconcile_names(name_list, reference_list):\n",
    "    names_to_reconcile = list(reference_list)\n",
    "    names_not_found = []\n",
    "    for i, name in enumerate(name_list):\n",
    "        while name not in names_to_reconcile:\n",
    "            name_numeral = int(name[-2:])\n",
    "            name_numeral += 1\n",
    "            name_numeral = str(name_numeral)\n",
    "            if len(name_numeral) == 1:\n",
    "                name_numeral = '0' + name_numeral\n",
    "            if len(name_numeral) > 2:\n",
    "                name_numeral = '01'\n",
    "                name = name[:-2] + name_numeral\n",
    "                names_not_found.append(name)\n",
    "                names_to_reconcile.append(name)\n",
    "            new_name = name[:-2] + name_numeral\n",
    "            name_list[i] = new_name\n",
    "            name = new_name\n",
    "    return name_list, names_not_found\n"
   ]
  },
  {
   "cell_type": "markdown",
   "metadata": {
    "collapsed": false
   },
   "source": [
    "    I found a comprehensive list of pitcher information as a part of the exhaustive Lahman's Baseball Database set (http://www.seanlahman.com/baseball-archive/statistics/). It includes player stats dating back to 1871, which is really cool! However, the scope of this project is pitchers with MLB appearances in both 2015 and 2016. Pitchers can have really long careers - Nolan Ryan holds the record, appearing in a total of 27 MLB seasons spanning 28 years. \n",
    "    To make sure we have all the career data for any pitchers who may compete with Ryan's record, I'll use the Lahman set back to the 1989 season. For the scope of my questions, I'm just going to take the IPouts (innings * 3) stats for each player for each team and season:"
   ]
  },
  {
   "cell_type": "code",
   "execution_count": 130,
   "metadata": {
    "collapsed": true
   },
   "outputs": [],
   "source": [
    "pitch = pd.read_csv('Pitching.csv')\n",
    "mp = pitch[pitch[\"yearID\"] >= 1989]\n",
    "pitchers = pd.DataFrame(columns=['playerID', 'year', 'Outs Pitched'])\n",
    "pitchers['playerID'], pitchers['year'], pitchers['Outs Pitched'] = mp['playerID'], mp['yearID'], mp['IPouts']"
   ]
  },
  {
   "cell_type": "markdown",
   "metadata": {},
   "source": [
    "    I'll generate a 'career profile' for each pitcher on this list using the players_outs() function. It returns a dictionary where the key is the player's name and the value is a pandas dataframe with their career information:"
   ]
  },
  {
   "cell_type": "code",
   "execution_count": 131,
   "metadata": {
    "collapsed": true
   },
   "outputs": [],
   "source": [
    "players = players_outs(pitchers)"
   ]
  },
  {
   "cell_type": "markdown",
   "metadata": {},
   "source": [
    "    We want to remove all players who did not appear in both the 2015 and 2016 seasons:"
   ]
  },
  {
   "cell_type": "code",
   "execution_count": 132,
   "metadata": {
    "collapsed": false
   },
   "outputs": [
    {
     "name": "stdout",
     "output_type": "stream",
     "text": [
      "\t526 players appeared in both the 2015 and 2016 seasons.\n"
     ]
    }
   ],
   "source": [
    "players_to_exclude = []\n",
    "for player in players:\n",
    "    ya = list(players[player]['Year']) #ya short for \"years active\"\n",
    "    if not ((2015 in ya) and (2016 in ya)):\n",
    "        players_to_exclude.append(player)\n",
    "        \n",
    "for player in players_to_exclude:\n",
    "    del players[player]\n",
    "    \n",
    "print('\\t{} players appeared in both the 2015 and 2016 seasons.'.format(len(players)))"
   ]
  },
  {
   "cell_type": "markdown",
   "metadata": {
    "collapsed": true
   },
   "source": [
    "    I collected the disabled list information for the 2015 and 2016 seasons from baseballheatmaps.com (http://www.baseballheatmaps.com/disabled-list-data/). For now, I'm going to include all pitchers who appeared on the disabled list regardless of the specific reason for disability. I may come back and narrow my search to Tommy John surgeries (associated with overuse in pitchers), but I'm looking for a more general trend right now."
   ]
  },
  {
   "cell_type": "code",
   "execution_count": 133,
   "metadata": {
    "collapsed": false
   },
   "outputs": [],
   "source": [
    "inj2015 = pd.read_csv('2015_disabled_list.csv')\n",
    "inj2015_1 = inj2015[inj2015['Position'] == 'RHP']\n",
    "inj2015_2 = inj2015[inj2015['Position'] == 'LHP']\n",
    "inj2015 = pd.concat([inj2015_1, inj2015_2]).copy()\n",
    "inj2015_names = list(set(inj2015['Name'])) #set() call removes duplicates, as some players appear more than once.\n",
    "\n",
    "inj2016 = pd.read_csv('2016_disabled_list.csv')\n",
    "inj2016_1 = inj2016[inj2016['Position'] == 'RHP']\n",
    "inj2016_2 = inj2016[inj2016['Position'] == 'LHP']\n",
    "inj2016 = pd.concat([inj2016_1, inj2016_2]).copy()\n",
    "inj2016_names = list(inj2016['Name'])\n",
    "inj2016_names = list(set(inj2016_names)) #set() call removes duplicates, as some players appear more than once."
   ]
  },
  {
   "cell_type": "markdown",
   "metadata": {},
   "source": [
    "    The names on the disabled list appear in a different format than those on the Lahman's list. I'll reformat them:"
   ]
  },
  {
   "cell_type": "code",
   "execution_count": 134,
   "metadata": {
    "collapsed": false
   },
   "outputs": [],
   "source": [
    "inj2015_names = format_names(inj2015_names)\n",
    "inj2016_names = format_names(inj2016_names)"
   ]
  },
  {
   "cell_type": "markdown",
   "metadata": {
    "collapsed": false
   },
   "source": [
    "    I go through both lists to make a list of those players who appear on the 2016 DL and not 2015:"
   ]
  },
  {
   "cell_type": "code",
   "execution_count": 135,
   "metadata": {
    "collapsed": true
   },
   "outputs": [],
   "source": [
    "newly_injured = []\n",
    "for name in inj2016_names:\n",
    "    if name not in inj2015_names:\n",
    "        newly_injured.append(name)"
   ]
  },
  {
   "cell_type": "markdown",
   "metadata": {},
   "source": [
    "    The Lahman data set has so many players that it runs into duplicate player names (the first five letters of the last name and first two letters of the first name). It uses a number, starting at 01 which denotes the first instance of that name code, and counting up. To reconcile our reformatted injured players list with the Lahman player names, I built the reconcile_names() function. Any names it does not find in our data set will be returned as a list from the function. These are players who did not appear in both the 2015 and 2016 seasons but did appear on the 2016 DL; in the majority of cases, they debuted and appeared on the DL in 2016.\n",
    "    Important exception: Rubby de la Rosa is coded \"delarru01\" in the Lahman set and so was improperly formatted. I'll fix that before running the reconcile_names() function."
   ]
  },
  {
   "cell_type": "code",
   "execution_count": 136,
   "metadata": {
    "collapsed": false
   },
   "outputs": [],
   "source": [
    "newly_injured.remove('rosaru01')\n",
    "newly_injured.append('delarru01')\n",
    "newly_injured, missing_players = reconcile_names(newly_injured, players)\n",
    "for player in missing_players:\n",
    "    newly_injured.remove(player)"
   ]
  },
  {
   "cell_type": "markdown",
   "metadata": {},
   "source": [
    "    Because of the way the Lahman's set is put together, some players have multiple entries for the same year. This occurs when players pitch for multiple teams in the same season. I made the consol() function to take care of that by finding duplicate years in a player's career profile, adding the outs pitched from each row, adding these together, and creating a single consolidated row with the total outs pitched that year."
   ]
  },
  {
   "cell_type": "code",
   "execution_count": 137,
   "metadata": {
    "collapsed": false
   },
   "outputs": [],
   "source": [
    "for player in players:\n",
    "    players[player] = consol(players[player])"
   ]
  },
  {
   "cell_type": "markdown",
   "metadata": {},
   "source": [
    "    If a pitcher misses a year, he has no entry in the Lahman set. I built the fill_gaps() function to fill in gaps in the data set. We'll include these years and '0' for the number of outs pitched for the sake of consistency."
   ]
  },
  {
   "cell_type": "code",
   "execution_count": 138,
   "metadata": {
    "collapsed": true
   },
   "outputs": [],
   "source": [
    "for player in players:\n",
    "    players[player] = fill_gaps(players[player])"
   ]
  },
  {
   "cell_type": "markdown",
   "metadata": {},
   "source": [
    "    The tally_outs function will add two columns to each player's career profile. 'Outs TD Start' is the total number of outs pitched at the start of the season, and 'Outs TD Finish' is the total number of outs pitched at the end of that season."
   ]
  },
  {
   "cell_type": "code",
   "execution_count": 139,
   "metadata": {
    "collapsed": true
   },
   "outputs": [],
   "source": [
    "for player in players:\n",
    "    players[player] = tally_outs(players[player])"
   ]
  },
  {
   "cell_type": "markdown",
   "metadata": {},
   "source": [
    "    The season_load() function calculates a value called 'Season Load' for a given player. This is just a little metric I came up with to roughly calculate a pitcher's activity compared with the 'normal' activity for a pitcher, that is, the average number of outs pitched in a season. The column 'Season Load TD' uses the average number of outs per season in the seasons prior to the given year, and 'Season Load (Career)' considers future seasons as well in calculating this value. An 'average' season load will have a value of 1, a busy season will have be more than 1, and a slow season will be less than one. If a player does not appear in a season, the load will be zero."
   ]
  },
  {
   "cell_type": "code",
   "execution_count": 140,
   "metadata": {
    "collapsed": true
   },
   "outputs": [],
   "source": [
    "for player in players:\n",
    "    players[player] = season_load(players[player])"
   ]
  },
  {
   "cell_type": "markdown",
   "metadata": {},
   "source": [
    "    With the information we've aggregated so far, we can answer the first question:"
   ]
  },
  {
   "cell_type": "code",
   "execution_count": 141,
   "metadata": {
    "collapsed": false
   },
   "outputs": [
    {
     "data": {
      "text/plain": [
       "0.2661596958174905"
      ]
     },
     "execution_count": 141,
     "metadata": {},
     "output_type": "execute_result"
    }
   ],
   "source": [
    "len(newly_injured)/len(players)"
   ]
  },
  {
   "cell_type": "markdown",
   "metadata": {},
   "source": [
    "    Of the MLB pitchers who appeared in both the 2015 and 2016 seasons, 26.6% appeared on the disabled list (DL) in 2016 for the first time in that period (2015-2016)."
   ]
  },
  {
   "cell_type": "code",
   "execution_count": 291,
   "metadata": {
    "collapsed": false
   },
   "outputs": [],
   "source": [
    "def set_plot(pitchers, names, column, n, year):\n",
    "    fig = plt.figure(figsize=(16,10))\n",
    "    ax = fig.add_subplot(111)\n",
    "    ax.set_title('2016 Injuries')\n",
    "    ax.set_ylabel('{} in {}'.format(column, year))\n",
    "    ax.set_xlabel('Player Rank from Lowest {} to Highest {} in {}'.format(column, column, year))\n",
    "    length = len(pitchers)\n",
    "    group_size = length/n\n",
    "    ranked_values = []\n",
    "    for pitcher in pitchers:\n",
    "        df = pitchers[pitcher]\n",
    "        i = list(df[df['Year']==year].index)[0]\n",
    "        ranked_values.append(float(df.loc[i, column]))\n",
    "    ranked_values.sort()\n",
    "    plt.plot(ranked_values)\n",
    "    y_scale = max(ranked_values)/10\n",
    "    txt_loc = group_size/2\n",
    "    for i in range(0, n):\n",
    "        y_val = ranked_values[int(group_size * i)]\n",
    "        plt.axhline(y=y_val, color='k', linestyle='dashed')\n",
    "        ax.text((txt_loc+group_size/2), y_val+(y_scale/n), 'Group {}'.format(i+1), fontsize=22, color='g')\n",
    "        txt_loc += group_size\n",
    "    rank_iter = 1\n",
    "    for pitcher in pitchers:\n",
    "        df = pitchers[pitcher]\n",
    "        i = df[df['Year']==year].index\n",
    "        if pitcher in names:\n",
    "                value = float(df.loc[i, column])\n",
    "                rank = ranked_values.index(value)\n",
    "                plt.scatter(x=rank, y=value, marker='x', color='r')\n",
    "\n",
    "                \n",
    "def report(pitchers, names, column, n, year):\n",
    "    group_size = int(len(pitchers)/n)\n",
    "    ranked_values = []\n",
    "    for pitcher in pitchers:\n",
    "        df = pitchers[pitcher]\n",
    "        i = list(df[df['Year']==year].index)[0]\n",
    "        ranked_values.append(float(df.loc[i, column]))\n",
    "    ranked_values.sort()\n",
    "    lower_bound = 0\n",
    "    upper_bound = group_size\n",
    "    for i in range(0, n):\n",
    "        basket = 0\n",
    "        for name in names:\n",
    "            df = pitchers[name]\n",
    "            ind = list(df[df['Year']==year].index)[0]\n",
    "            if ranked_values[lower_bound] <= (float(df.loc[ind, column])) < ranked_values[upper_bound-1]:\n",
    "                basket += 1\n",
    "        print('Group {} of 1/{} has {} players and represents {}% of the group.'.format((i+1), n, basket, 100*(basket/len(names))))\n",
    "        lower_bound += group_size\n",
    "        upper_bound += group_size\n",
    "    \n",
    "        \n",
    "    \n",
    "        "
   ]
  },
  {
   "cell_type": "code",
   "execution_count": 227,
   "metadata": {
    "collapsed": false
   },
   "outputs": [
    {
     "data": {
      "text/plain": [
       "134"
      ]
     },
     "execution_count": 227,
     "metadata": {},
     "output_type": "execute_result"
    }
   ],
   "source": []
  },
  {
   "cell_type": "code",
   "execution_count": 241,
   "metadata": {
    "collapsed": false
   },
   "outputs": [
    {
     "name": "stdout",
     "output_type": "stream",
     "text": [
      "The 1th group of 1/2 has 52 players and represents 37.142857142857146% of the group.\n",
      "The 2th group of 1/2 has 87 players and represents 62.142857142857146% of the group.\n"
     ]
    }
   ],
   "source": []
  },
  {
   "cell_type": "code",
   "execution_count": 293,
   "metadata": {
    "collapsed": false
   },
   "outputs": [
    {
     "name": "stdout",
     "output_type": "stream",
     "text": [
      "Group 1 of 1/5 has 20 players and represents 14.285714285714285% of the group.\n",
      "Group 2 of 1/5 has 20 players and represents 14.285714285714285% of the group.\n",
      "Group 3 of 1/5 has 26 players and represents 18.571428571428573% of the group.\n",
      "Group 4 of 1/5 has 35 players and represents 25.0% of the group.\n",
      "Group 5 of 1/5 has 38 players and represents 27.142857142857142% of the group.\n"
     ]
    },
    {
     "data": {
      "image/png": "[encoded data removed]",
      "text/plain": [
       "<matplotlib.figure.Figure at 0xa9e6fa2c>"
      ]
     },
     "metadata": {},
     "output_type": "display_data"
    }
   ],
   "source": [
    "report(players, newly_injured, 'Season Load (Career)', 5, 2015)\n",
    "set_plot(players, newly_injured, 'Season Load (Career)', 5, 2015)"
   ]
  },
  {
   "cell_type": "code",
   "execution_count": 146,
   "metadata": {
    "collapsed": false
   },
   "outputs": [
    {
     "name": "stdout",
     "output_type": "stream",
     "text": [
      "group number 1 has 0 in it.\n",
      "group number 2 has 10 in it.\n",
      "group number 3 has 7 in it.\n",
      "group number 4 has 12 in it.\n",
      "group number 5 has 10 in it.\n",
      "group number 6 has 16 in it.\n",
      "group number 7 has 19 in it.\n",
      "group number 8 has 18 in it.\n",
      "group number 9 has 10 in it.\n",
      "group number 10 has 26 in it.\n"
     ]
    }
   ],
   "source": [
    "report(players, newly_injured, 'Outs Pitched', 10, 2015)"
   ]
  },
  {
   "cell_type": "code",
   "execution_count": null,
   "metadata": {
    "collapsed": false
   },
   "outputs": [],
   "source": [
    "for player in newly_injured:\n",
    "    if player not in players:\n",
    "        print(player)\n",
    "    "
   ]
  },
  {
   "cell_type": "code",
   "execution_count": null,
   "metadata": {
    "collapsed": false
   },
   "outputs": [],
   "source": [
    "for player in newly_injured:\n",
    "    i = index"
   ]
  },
  {
   "cell_type": "code",
   "execution_count": null,
   "metadata": {
    "collapsed": false
   },
   "outputs": [],
   "source": []
  },
  {
   "cell_type": "code",
   "execution_count": null,
   "metadata": {
    "collapsed": false
   },
   "outputs": [],
   "source": []
  },
  {
   "cell_type": "code",
   "execution_count": null,
   "metadata": {
    "collapsed": false
   },
   "outputs": [],
   "source": []
  },
  {
   "cell_type": "code",
   "execution_count": null,
   "metadata": {
    "collapsed": false
   },
   "outputs": [],
   "source": [
    "\n",
    "        \n",
    "        \n",
    "    "
   ]
  },
  {
   "cell_type": "code",
   "execution_count": null,
   "metadata": {
    "collapsed": false
   },
   "outputs": [],
   "source": [
    "\n",
    "    "
   ]
  },
  {
   "cell_type": "code",
   "execution_count": null,
   "metadata": {
    "collapsed": false
   },
   "outputs": [],
   "source": []
  },
  {
   "cell_type": "code",
   "execution_count": null,
   "metadata": {
    "collapsed": false
   },
   "outputs": [],
   "source": []
  },
  {
   "cell_type": "code",
   "execution_count": null,
   "metadata": {
    "collapsed": false
   },
   "outputs": [],
   "source": []
  },
  {
   "cell_type": "code",
   "execution_count": null,
   "metadata": {
    "collapsed": false
   },
   "outputs": [],
   "source": []
  },
  {
   "cell_type": "code",
   "execution_count": null,
   "metadata": {
    "collapsed": false
   },
   "outputs": [],
   "source": []
  },
  {
   "cell_type": "code",
   "execution_count": null,
   "metadata": {
    "collapsed": false
   },
   "outputs": [],
   "source": []
  },
  {
   "cell_type": "code",
   "execution_count": null,
   "metadata": {
    "collapsed": false
   },
   "outputs": [],
   "source": []
  },
  {
   "cell_type": "code",
   "execution_count": null,
   "metadata": {
    "collapsed": true
   },
   "outputs": [],
   "source": []
  },
  {
   "cell_type": "code",
   "execution_count": null,
   "metadata": {
    "collapsed": false
   },
   "outputs": [],
   "source": []
  },
  {
   "cell_type": "code",
   "execution_count": null,
   "metadata": {
    "collapsed": true
   },
   "outputs": [],
   "source": []
  },
  {
   "cell_type": "code",
   "execution_count": null,
   "metadata": {
    "collapsed": true
   },
   "outputs": [],
   "source": []
  }
 ],
 "metadata": {
  "kernelspec": {
   "display_name": "Python 3",
   "language": "python",
   "name": "python3"
  },
  "language_info": {
   "codemirror_mode": {
    "name": "ipython",
    "version": 3
   },
   "file_extension": ".py",
   "mimetype": "text/x-python",
   "name": "python",
   "nbconvert_exporter": "python",
   "pygments_lexer": "ipython3",
   "version": "3.6.0"
  }
 },
 "nbformat": 4,
 "nbformat_minor": 2
}
