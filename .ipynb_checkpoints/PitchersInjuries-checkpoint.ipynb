{
 "cells": [
  {
   "cell_type": "code",
   "execution_count": 2,
   "metadata": {
    "collapsed": true
   },
   "outputs": [],
   "source": [
    "import numpy as np\n",
    "import pandas as pd\n",
    "import statistics as st\n",
    "import matplotlib.pyplot as plt\n",
    "%matplotlib inline"
   ]
  },
  {
   "cell_type": "code",
   "execution_count": 3,
   "metadata": {
    "collapsed": true
   },
   "outputs": [],
   "source": [
    "def players_outs(df_in):\n",
    "    players = {}\n",
    "    for row in df_in.index:\n",
    "        rowdict = dict(df_in.loc[row])\n",
    "        name = rowdict['playerID']\n",
    "        if name not in players:\n",
    "            df = pd.DataFrame(columns=['Year', 'Outs Pitched'], index=[1])\n",
    "            df['Year'] = rowdict['year']\n",
    "            df['Outs Pitched'] = rowdict['Outs Pitched']\n",
    "            players[name] = df\n",
    "        else:\n",
    "            df = pd.DataFrame(columns=['Year', 'Outs Pitched'], index=[(list(players[name].index)[-1]+1)])\n",
    "            df['Year'] = rowdict['year']\n",
    "            df['Outs Pitched'] = rowdict['Outs Pitched']\n",
    "            players[name] = pd.concat([players[name], df])\n",
    "    return players\n",
    "    \n",
    "def consol(df):\n",
    "    count = {}\n",
    "    for row in df.index:\n",
    "        count[df.loc[row, 'Year']] = 0\n",
    "    for row in df.index:\n",
    "        count[df.loc[row, 'Year']] += df.loc[row, 'Outs Pitched']\n",
    "    result = pd.DataFrame(index=range(df.index[0], len(count)+df.index[0]))\n",
    "    result['Year'] = count.keys()\n",
    "    result['Outs Pitched'] = count.values()\n",
    "    return result\n",
    "\n",
    "def fill_gaps(df):\n",
    "    last_year = df.iloc[0]['Year']\n",
    "    years_to_add = []\n",
    "    for row in df.index:\n",
    "        this_year = int(df.loc(row, 'Year'))\n",
    "        if (this_year - last_year) != 1:\n",
    "            gap = this_year - last_year\n",
    "            print(this_year)\n",
    "            print(last_year)\n",
    "            for i in range(1, gap):\n",
    "                years_to_add.append(last_year + 1)\n",
    "        last_year = this_year\n",
    "    return years_to_add\n",
    "        \n",
    "\n",
    "def tally_outs(df):\n",
    "    if len(df) <= 1:\n",
    "        df.loc[1, 'Outs TD Start'] = 0\n",
    "        df.loc[1, 'Outs TD Finish'] = df.loc[1, 'Outs Pitched']\n",
    "    else:\n",
    "        for i, row in enumerate(df.index):\n",
    "            if i == 0:\n",
    "                df.loc[row, 'Outs TD Start'] = 0\n",
    "            else:\n",
    "                df.loc[row, 'Outs TD Start'] = df.loc[row-1, 'Outs Pitched'] + df.loc[row-1, 'Outs TD Start']\n",
    "                df.loc[row-1, 'Outs TD Finish'] = df.loc[row, 'Outs TD Start']\n",
    "        df.iloc[-1, 3] = df.iloc[-1, 2] + df.iloc[-1, 1]\n",
    "    return df\n",
    "\n",
    "def season_load(df):\n",
    "    if len(df) <= 1:\n",
    "        df.loc[1, 'Mean Outs/Season'] = df.loc[1, 'Outs Pitched']\n",
    "        df.loc[1, 'Season Load TD'] = 1\n",
    "        df.loc[1, 'Season Load (Career)'] = 1\n",
    "    else:\n",
    "        for row in df.index:\n",
    "            if row == 1:\n",
    "                df.loc[1, 'Mean Outs/Season'] = df.loc[1, 'Outs Pitched']\n",
    "            else:\n",
    "                df.loc[row, 'Mean Outs/Season'] = df.loc[row, 'Outs TD Start']/(row-1)\n",
    "            if df.loc[row, 'Mean Outs/Season'] != 0:\n",
    "                df.loc[row, 'Season Load TD'] = df.loc[row, 'Outs Pitched']/df.loc[row, 'Mean Outs/Season']\n",
    "            else:\n",
    "                df.loc[row, 'Season Load TD'] = 1\n",
    "        total_outs = df.iloc[-1]['Outs TD Finish']\n",
    "        avg_outs = total_outs/len(df)\n",
    "        for row in df.index:\n",
    "            if avg_outs != 0:\n",
    "                df.loc[row, 'Season Load (Career)'] = df.loc[row, 'Outs Pitched'] / avg_outs\n",
    "            else:\n",
    "                df.loc[row, 'Season Load (Career)'] = 1\n",
    "    return df\n",
    "\n",
    "def format_names(name_list):\n",
    "    for name in name_list:\n",
    "        index = name_list.index(name)\n",
    "        name = name.lower()\n",
    "        names = name.split()\n",
    "        name1 = names[-1]\n",
    "        if \"'\" in name1:\n",
    "            name1 = name1[0] + name1[2:]\n",
    "        if len(name1) >= 5:\n",
    "            name1 = name1[0:5]\n",
    "        name2 = ''\n",
    "        if names[0][1] == '.':\n",
    "            name2 = names[0][0] + names[0][2]\n",
    "        else:\n",
    "            name2 = names[0][0:2]\n",
    "        newname = name1 + name2 + '01'\n",
    "        name_list[index] = newname\n",
    "    return name_list\n",
    "\n",
    "def reconcile_names(name_list):\n",
    "    names_to_reconcile = list(players)\n",
    "    names_not_found = []\n",
    "    for i, name in enumerate(name_list):\n",
    "        while name not in players:\n",
    "            name_numeral = int(name[-2:])\n",
    "            name_numeral += 1\n",
    "            name_numeral = str(name_numeral)\n",
    "            if len(name_numeral) == 1:\n",
    "                name_numeral = '0' + name_numeral\n",
    "            if len(name_numeral) > 2:\n",
    "                names_not_found.append(name)\n",
    "                name_numeral = '01'\n",
    "                name = name[:-2] + name_numeral\n",
    "                players[name] = pd.DataFrame(index=[1],columns=players['cashnan01'].columns)\n",
    "                players[name].loc[1] = [2016, 0, 0, 0, 0, 1, 1]\n",
    "                print('{} was added to players.'.format(name))\n",
    "            new_name = name[:-2] + name_numeral\n",
    "            name_list[i] = new_name\n",
    "            name = new_name\n",
    "    return name_list\n"
   ]
  },
  {
   "cell_type": "code",
   "execution_count": 4,
   "metadata": {
    "collapsed": false
   },
   "outputs": [
    {
     "ename": "NameError",
     "evalue": "name 'players' is not defined",
     "output_type": "error",
     "traceback": [
      "\u001b[0;31m---------------------------------------------------------------------------\u001b[0m",
      "\u001b[0;31mNameError\u001b[0m                                 Traceback (most recent call last)",
      "\u001b[0;32m<ipython-input-4-a5a54926d04c>\u001b[0m in \u001b[0;36m<module>\u001b[0;34m()\u001b[0m\n\u001b[0;32m----> 1\u001b[0;31m \u001b[0mfill_gaps\u001b[0m\u001b[0;34m(\u001b[0m\u001b[0mplayers\u001b[0m\u001b[0;34m[\u001b[0m\u001b[0;34m'chatwty01'\u001b[0m\u001b[0;34m]\u001b[0m\u001b[0;34m)\u001b[0m\u001b[0;34m\u001b[0m\u001b[0m\n\u001b[0m",
      "\u001b[0;31mNameError\u001b[0m: name 'players' is not defined"
     ]
    }
   ],
   "source": [
    "fill_gaps(players['chatwty01'])"
   ]
  },
  {
   "cell_type": "code",
   "execution_count": null,
   "metadata": {
    "collapsed": false
   },
   "outputs": [],
   "source": [
    "pitch = pd.read_csv('Pitching.csv')"
   ]
  },
  {
   "cell_type": "code",
   "execution_count": null,
   "metadata": {
    "collapsed": true
   },
   "outputs": [],
   "source": [
    "mp = pitch[pitch[\"yearID\"] >= 1989]\n",
    "pitchers = pd.DataFrame(columns=['playerID', 'year', 'Outs Pitched'])\n",
    "pitchers['playerID'], pitchers['year'], pitchers['Outs Pitched'] = mp['playerID'], mp['yearID'], mp['IPouts']"
   ]
  },
  {
   "cell_type": "code",
   "execution_count": null,
   "metadata": {
    "collapsed": true
   },
   "outputs": [],
   "source": [
    "players = players_outs(pitchers)"
   ]
  },
  {
   "cell_type": "code",
   "execution_count": null,
   "metadata": {
    "collapsed": false
   },
   "outputs": [],
   "source": [
    "players_to_exclude = []\n",
    "for player in players:\n",
    "    ya = list(players[player]['Year']) #ya short for \"years active\"\n",
    "    if all([2012 not in ya, 2013 not in ya, 2014 not in ya, 2015 not in ya, 2016 not in ya]):\n",
    "        players_to_exclude.append(player)"
   ]
  },
  {
   "cell_type": "code",
   "execution_count": null,
   "metadata": {
    "collapsed": true
   },
   "outputs": [],
   "source": [
    "for player in players_to_exclude:\n",
    "    del players[player]"
   ]
  },
  {
   "cell_type": "code",
   "execution_count": null,
   "metadata": {
    "collapsed": false
   },
   "outputs": [],
   "source": [
    "inj2016 = pd.read_csv('2016_disabled_list.csv')\n",
    "inj2016_1 = inj2016[inj2016['Position'] == 'RHP']\n",
    "inj2016_2 = inj2016[inj2016['Position'] == 'LHP']\n",
    "inj2016 = pd.concat([inj2016_1, inj2016_2]).copy()\n",
    "inj2016_names = list(inj2016['Name'])\n",
    "inj2016_names = list(set(inj2016_names))"
   ]
  },
  {
   "cell_type": "code",
   "execution_count": null,
   "metadata": {
    "collapsed": false
   },
   "outputs": [],
   "source": [
    "inj2016_names = format_names(inj2016_names)"
   ]
  },
  {
   "cell_type": "code",
   "execution_count": null,
   "metadata": {
    "collapsed": false
   },
   "outputs": [],
   "source": [
    "inj2015 = pd.read_csv('2015_disabled_list.csv')\n",
    "inj2015_1 = inj2015[inj2015['Position'] == 'RHP']\n",
    "inj2015_2 = inj2015[inj2015['Position'] == 'LHP']\n",
    "inj2015 = pd.concat([inj2015_1, inj2015_2]).copy()\n",
    "inj2015_names = list(set(inj2015['Name']))"
   ]
  },
  {
   "cell_type": "code",
   "execution_count": null,
   "metadata": {
    "collapsed": true
   },
   "outputs": [],
   "source": []
  },
  {
   "cell_type": "code",
   "execution_count": null,
   "metadata": {
    "collapsed": false
   },
   "outputs": [],
   "source": [
    "inj2015_names = format_names(inj2015_names)"
   ]
  },
  {
   "cell_type": "code",
   "execution_count": null,
   "metadata": {
    "collapsed": true
   },
   "outputs": [],
   "source": [
    "newly_injured = []\n",
    "for name in inj2016_names:\n",
    "    if name not in inj2015_names:\n",
    "        newly_injured.append(name)"
   ]
  },
  {
   "cell_type": "markdown",
   "metadata": {},
   "source": [
    "Important exceptions: Rubby de la Rosa is coded \"delarru01\" in the Lahman set and so was improperly formatted. Zack Jones, Ray Black, and Jessie Biddle are all players who are on the 2016 MLB disabled list but have yet to debut in the big leagues. I'll adjust De La Rosa's name in our injured players to ensure it's properly formatted and remove those who haven't debuted, as (in my mind) they don't count."
   ]
  },
  {
   "cell_type": "code",
   "execution_count": null,
   "metadata": {
    "collapsed": false
   },
   "outputs": [],
   "source": [
    "newly_injured.remove('rosaru01')\n",
    "newly_injured.append('delarru01')\n",
    "newly_injured.remove('jonesza01')\n",
    "newly_injured.remove('blackra01')\n",
    "newly_injured.remove('biddlje01')"
   ]
  },
  {
   "cell_type": "code",
   "execution_count": null,
   "metadata": {
    "collapsed": false
   },
   "outputs": [],
   "source": [
    "for player in players:\n",
    "    players[player] = consol(players[player])\n",
    "    players[player] = tally_outs(players[player])\n",
    "    players[player] = season_load(players[player])"
   ]
  },
  {
   "cell_type": "code",
   "execution_count": null,
   "metadata": {
    "collapsed": false
   },
   "outputs": [],
   "source": [
    "newly_injured = reconcile_names(newly_injured)"
   ]
  },
  {
   "cell_type": "code",
   "execution_count": null,
   "metadata": {
    "collapsed": false
   },
   "outputs": [],
   "source": [
    "print(players.keys())"
   ]
  },
  {
   "cell_type": "code",
   "execution_count": null,
   "metadata": {
    "collapsed": false
   },
   "outputs": [],
   "source": [
    "for name in newly_injured:\n",
    "    if name not in players:\n",
    "        print(name)\n",
    "        "
   ]
  },
  {
   "cell_type": "markdown",
   "metadata": {},
   "source": [
    "There are a number of players who do not appear in the 2016 season, nor were placed on the disabled list for the first time. This is due to retirement or moving to MiLB in the vast majority of cases. I'll also want to remove players who were inactive for both 2015 and 2016, as I'm looking specifically at previously \"healthy\" players who joined the 2016 disabled list after a full 2015 season free from disability."
   ]
  },
  {
   "cell_type": "code",
   "execution_count": null,
   "metadata": {
    "collapsed": false
   },
   "outputs": [],
   "source": [
    "players_to_exclude = []\n",
    "for player in players:\n",
    "    if 2016 not in list(players[player]['Year']):\n",
    "        if player not in newly_injured:\n",
    "            players_to_exclude.append(player)\n",
    "            \n",
    "for player in players_to_exclude:\n",
    "    del players[player]"
   ]
  },
  {
   "cell_type": "code",
   "execution_count": null,
   "metadata": {
    "collapsed": false
   },
   "outputs": [],
   "source": [
    "len(newly_injured)/len(players)"
   ]
  },
  {
   "cell_type": "markdown",
   "metadata": {},
   "source": [
    "With the information we've aggregated so far, we can already see that 23.7% of the eligible pitchers, or almost a quarter, have joined the disabled list in 2016 at some point."
   ]
  },
  {
   "cell_type": "code",
   "execution_count": null,
   "metadata": {
    "collapsed": false
   },
   "outputs": [],
   "source": [
    "print(players['chatwty01'])"
   ]
  },
  {
   "cell_type": "code",
   "execution_count": null,
   "metadata": {
    "collapsed": false
   },
   "outputs": [],
   "source": []
  },
  {
   "cell_type": "code",
   "execution_count": null,
   "metadata": {
    "collapsed": false
   },
   "outputs": [],
   "source": [
    "for name in newly_injured:\n",
    "    if name not in players:\n",
    "        print(name)"
   ]
  },
  {
   "cell_type": "code",
   "execution_count": null,
   "metadata": {
    "collapsed": false
   },
   "outputs": [],
   "source": []
  },
  {
   "cell_type": "code",
   "execution_count": null,
   "metadata": {
    "collapsed": false
   },
   "outputs": [],
   "source": [
    "def set_plot(pitchers, names, column, n, year):\n",
    "    plt.figure(figsize=(16,10))\n",
    "    length = len(pitchers)\n",
    "    group_size = length/n\n",
    "    ranked_values = []\n",
    "    for pitcher in pitchers:\n",
    "        df = pitchers[pitcher]\n",
    "        if year not in list(df['Year']):\n",
    "            ranked_values.append(0)\n",
    "        else:\n",
    "            i = list(df[df['Year']==year].index)[0]\n",
    "            ranked_values.append(int(df.loc[i, column]))\n",
    "    ranked_values.sort()\n",
    "    plt.plot(ranked_values)\n",
    "    for i in range(0, n):\n",
    "        plt.axhline(y=(ranked_values[int(group_size * i)]), color='k', linestyle='dashed')\n",
    "    rank_iter = 1\n",
    "    for pitcher in pitchers:\n",
    "        df = pitchers[pitcher]\n",
    "        i = df[df['Year']==year].index\n",
    "        if pitcher in names:\n",
    "                value = int(df.loc[i, column])\n",
    "                rank = ranked_values.index(value)\n",
    "                plt.scatter(x=rank, y=value, marker='x')\n",
    "\n",
    "                \n",
    "def report(pitchers, names, column, n, year):\n",
    "    length = len(pitchers)\n",
    "    group_size = length/n\n",
    "    ranked_values = []\n",
    "    for pitcher in pitchers:\n",
    "        df = pitchers[pitcher]\n",
    "        if year not in list(df['Year']):\n",
    "            ranked_values.append(0)\n",
    "        else:\n",
    "            i = list(df[df['Year']==year].index)[0]\n",
    "            ranked_values.append(int(df.loc[i, column]))\n",
    "    ranked_values.sort()\n",
    "    groups = {}\n",
    "    cutoffs = []\n",
    "    for i in range(0, n):\n",
    "        groups['group number {}'.format(str(i+1))] = 0\n",
    "        cutoffs.append(ranked_values[int(group_size * i)])\n",
    "    for pitcher in names:\n",
    "        df = pitchers[pitcher]\n",
    "        value = 0\n",
    "        if year not in list(df['Year']):\n",
    "            pass\n",
    "        else:\n",
    "            i = df[df['Year']==year].index\n",
    "            value = int(df.loc[i, column])\n",
    "            for x in range(0, n):\n",
    "                if x == 0:\n",
    "                    if value <= cutoffs[x]:\n",
    "                        groups['group number {}'.format(x+1)] += 1\n",
    "                elif 0 < x < (n-1):\n",
    "                    if cutoffs[x-1] < value <= cutoffs[x]:\n",
    "                        groups['group number {}'.format(x+1)] += 1\n",
    "                elif x == (n-1):\n",
    "                    if cutoffs[x] <= value:\n",
    "                        groups['group number {}'.format(x+1)] += 1\n",
    "    for group in groups:\n",
    "        print('{} has {} in it.'.format(group, groups[group]))\n",
    "                        \n",
    "            \n",
    "    \n",
    "        "
   ]
  },
  {
   "cell_type": "code",
   "execution_count": null,
   "metadata": {
    "collapsed": false
   },
   "outputs": [],
   "source": []
  },
  {
   "cell_type": "code",
   "execution_count": null,
   "metadata": {
    "collapsed": false
   },
   "outputs": [],
   "source": [
    "set_plot(players, newly_injured, 'Outs Pitched', 4, 2016)\n"
   ]
  },
  {
   "cell_type": "code",
   "execution_count": null,
   "metadata": {
    "collapsed": false
   },
   "outputs": [],
   "source": [
    "report(players, newly_injured, 'Outs Pitched', 3, 2015)"
   ]
  },
  {
   "cell_type": "code",
   "execution_count": null,
   "metadata": {
    "collapsed": false
   },
   "outputs": [],
   "source": [
    "for player in newly_injured:\n",
    "    if player not in players:\n",
    "        print(player)\n",
    "    "
   ]
  },
  {
   "cell_type": "code",
   "execution_count": null,
   "metadata": {
    "collapsed": false
   },
   "outputs": [],
   "source": [
    "for player in newly_injured:\n",
    "    i = index"
   ]
  },
  {
   "cell_type": "code",
   "execution_count": null,
   "metadata": {
    "collapsed": false
   },
   "outputs": [],
   "source": []
  },
  {
   "cell_type": "code",
   "execution_count": null,
   "metadata": {
    "collapsed": false
   },
   "outputs": [],
   "source": []
  },
  {
   "cell_type": "code",
   "execution_count": null,
   "metadata": {
    "collapsed": false
   },
   "outputs": [],
   "source": []
  },
  {
   "cell_type": "code",
   "execution_count": null,
   "metadata": {
    "collapsed": false
   },
   "outputs": [],
   "source": [
    "\n",
    "        \n",
    "        \n",
    "    "
   ]
  },
  {
   "cell_type": "code",
   "execution_count": null,
   "metadata": {
    "collapsed": false
   },
   "outputs": [],
   "source": [
    "\n",
    "    "
   ]
  },
  {
   "cell_type": "code",
   "execution_count": null,
   "metadata": {
    "collapsed": false
   },
   "outputs": [],
   "source": []
  },
  {
   "cell_type": "code",
   "execution_count": null,
   "metadata": {
    "collapsed": false
   },
   "outputs": [],
   "source": []
  },
  {
   "cell_type": "code",
   "execution_count": null,
   "metadata": {
    "collapsed": false
   },
   "outputs": [],
   "source": []
  },
  {
   "cell_type": "code",
   "execution_count": null,
   "metadata": {
    "collapsed": false
   },
   "outputs": [],
   "source": []
  },
  {
   "cell_type": "code",
   "execution_count": null,
   "metadata": {
    "collapsed": false
   },
   "outputs": [],
   "source": []
  },
  {
   "cell_type": "code",
   "execution_count": null,
   "metadata": {
    "collapsed": false
   },
   "outputs": [],
   "source": []
  },
  {
   "cell_type": "code",
   "execution_count": null,
   "metadata": {
    "collapsed": false
   },
   "outputs": [],
   "source": []
  },
  {
   "cell_type": "code",
   "execution_count": null,
   "metadata": {
    "collapsed": true
   },
   "outputs": [],
   "source": []
  },
  {
   "cell_type": "code",
   "execution_count": null,
   "metadata": {
    "collapsed": false
   },
   "outputs": [],
   "source": []
  },
  {
   "cell_type": "code",
   "execution_count": null,
   "metadata": {
    "collapsed": true
   },
   "outputs": [],
   "source": []
  },
  {
   "cell_type": "code",
   "execution_count": null,
   "metadata": {
    "collapsed": true
   },
   "outputs": [],
   "source": []
  }
 ],
 "metadata": {
  "kernelspec": {
   "display_name": "Python 3",
   "language": "python",
   "name": "python3"
  },
  "language_info": {
   "codemirror_mode": {
    "name": "ipython",
    "version": 3
   },
   "file_extension": ".py",
   "mimetype": "text/x-python",
   "name": "python",
   "nbconvert_exporter": "python",
   "pygments_lexer": "ipython3",
   "version": "3.6.0"
  }
 },
 "nbformat": 4,
 "nbformat_minor": 2
}
